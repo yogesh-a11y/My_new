{
 "cells": [
  {
   "cell_type": "markdown",
   "id": "94527d38",
   "metadata": {},
   "source": [
    "# Write a python function to check if the given input number is prime or not if prime return true else return false"
   ]
  },
  {
   "cell_type": "code",
   "execution_count": 1,
   "id": "1e1bc8af",
   "metadata": {},
   "outputs": [],
   "source": [
    "def is_prime(num):\n",
    "    if num<=1:\n",
    "        return None\n",
    "    for divisor in range(2,num):\n",
    "        if num % divisor == 0:\n",
    "            return False\n",
    "    return True"
   ]
  },
  {
   "cell_type": "code",
   "execution_count": 2,
   "id": "9d6a4fd0",
   "metadata": {},
   "outputs": [
    {
     "data": {
      "text/plain": [
       "True"
      ]
     },
     "execution_count": 2,
     "metadata": {},
     "output_type": "execute_result"
    }
   ],
   "source": [
    "is_prime(5)"
   ]
  },
  {
   "cell_type": "code",
   "execution_count": 3,
   "id": "cec4cb25",
   "metadata": {},
   "outputs": [],
   "source": [
    "is_prime(1)"
   ]
  },
  {
   "cell_type": "code",
   "execution_count": 4,
   "id": "b69bb310",
   "metadata": {},
   "outputs": [
    {
     "data": {
      "text/plain": [
       "False"
      ]
     },
     "execution_count": 4,
     "metadata": {},
     "output_type": "execute_result"
    }
   ],
   "source": [
    "is_prime(111)"
   ]
  },
  {
   "cell_type": "code",
   "execution_count": 10,
   "id": "667f3398",
   "metadata": {},
   "outputs": [
    {
     "name": "stdout",
     "output_type": "stream",
     "text": [
      "[None, None, True, True, False, True, False, True, False, False, False, True, False, True, False, False, False, True, False, True]\n"
     ]
    }
   ],
   "source": [
    "print([is_prime(i)  for i in range(20)])"
   ]
  },
  {
   "cell_type": "markdown",
   "id": "10ccd08f",
   "metadata": {},
   "source": [
    "# Write a python function to calculate the factorial of a  non-negative integer\n",
    "\n",
    "0! = 0\\\n",
    "1! = 1\\\n",
    "2! = 2 * 1 = 2\\\n",
    "3! = 3 * 2! = 3 * 2 * 1 = 6\\\n",
    "4! = 4 * 3! = 4 * 3 * 2 * 1 = 24\\\n",
    "5! = 5 * 4! = 5 * 4 * 3 * 2 * 1 = 120"
   ]
  },
  {
   "cell_type": "code",
   "execution_count": 14,
   "id": "b22edbbe",
   "metadata": {},
   "outputs": [],
   "source": [
    "def factorial(num):\n",
    "    fact = 1\n",
    "    if num<0:\n",
    "        return None\n",
    "    elif num == 0 or num == 1:\n",
    "        return 1\n",
    "    else:\n",
    "        for i in range(1,num+1):\n",
    "            fact = fact*i\n",
    "    return fact\n",
    "\n",
    "        "
   ]
  },
  {
   "cell_type": "code",
   "execution_count": 12,
   "id": "62cc92e1",
   "metadata": {},
   "outputs": [
    {
     "data": {
      "text/plain": [
       "120"
      ]
     },
     "execution_count": 12,
     "metadata": {},
     "output_type": "execute_result"
    }
   ],
   "source": [
    "factorial(5)"
   ]
  },
  {
   "cell_type": "code",
   "execution_count": 13,
   "id": "ebe2b72e",
   "metadata": {},
   "outputs": [
    {
     "data": {
      "text/plain": [
       "[1, 1, 2, 6, 24, 120, 720, 5040, 40320, 362880]"
      ]
     },
     "execution_count": 13,
     "metadata": {},
     "output_type": "execute_result"
    }
   ],
   "source": [
    "[factorial(i) for i in range(10)]"
   ]
  },
  {
   "cell_type": "markdown",
   "id": "b0c26406",
   "metadata": {},
   "source": [
    "# write a python program to check if letters are upper or lower and count them"
   ]
  },
  {
   "cell_type": "code",
   "execution_count": 16,
   "id": "6953119c",
   "metadata": {},
   "outputs": [],
   "source": [
    "msg = 'Hello World.'\n",
    "def upper_lower(msg):\n",
    "    upper = 0\n",
    "    lower = 0\n",
    "    for letter in msg:\n",
    "        if letter.isupper():\n",
    "            upper = upper + 1\n",
    "        elif letter == ' ' or letter =='.':\n",
    "            continue\n",
    "        else:\n",
    "            lower += 1\n",
    "    return upper,lower"
   ]
  },
  {
   "cell_type": "code",
   "execution_count": 18,
   "id": "e8f2c4c5",
   "metadata": {},
   "outputs": [
    {
     "data": {
      "text/plain": [
       "(2, 8)"
      ]
     },
     "execution_count": 18,
     "metadata": {},
     "output_type": "execute_result"
    }
   ],
   "source": [
    "upper_lower(msg = msg)"
   ]
  },
  {
   "cell_type": "code",
   "execution_count": 19,
   "id": "8156f91d",
   "metadata": {},
   "outputs": [],
   "source": [
    "upper_letter_count, lower_letter_count = upper_lower(msg=msg)"
   ]
  },
  {
   "cell_type": "code",
   "execution_count": 20,
   "id": "dd30fee5",
   "metadata": {},
   "outputs": [
    {
     "data": {
      "text/plain": [
       "2"
      ]
     },
     "execution_count": 20,
     "metadata": {},
     "output_type": "execute_result"
    }
   ],
   "source": [
    "upper_letter_count"
   ]
  },
  {
   "cell_type": "code",
   "execution_count": null,
   "id": "c483853f",
   "metadata": {},
   "outputs": [],
   "source": []
  }
 ],
 "metadata": {
  "kernelspec": {
   "display_name": "Python 3",
   "language": "python",
   "name": "python3"
  },
  "language_info": {
   "codemirror_mode": {
    "name": "ipython",
    "version": 3
   },
   "file_extension": ".py",
   "mimetype": "text/x-python",
   "name": "python",
   "nbconvert_exporter": "python",
   "pygments_lexer": "ipython3",
   "version": "3.8.8"
  }
 },
 "nbformat": 4,
 "nbformat_minor": 5
}
