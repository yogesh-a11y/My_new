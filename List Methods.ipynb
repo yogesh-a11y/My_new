{
 "cells": [
  {
   "cell_type": "code",
   "execution_count": 1,
   "id": "bd968ec8",
   "metadata": {},
   "outputs": [],
   "source": [
    "cars = ['Mercedes','Tesla','BMW','Range Rover','Audi','Bently']"
   ]
  },
  {
   "cell_type": "code",
   "execution_count": 2,
   "id": "7cab5415",
   "metadata": {},
   "outputs": [
    {
     "data": {
      "text/plain": [
       "'Tesla'"
      ]
     },
     "execution_count": 2,
     "metadata": {},
     "output_type": "execute_result"
    }
   ],
   "source": [
    "cars[1]"
   ]
  },
  {
   "cell_type": "code",
   "execution_count": 3,
   "id": "e50172b4",
   "metadata": {},
   "outputs": [],
   "source": [
    "cars[1]='Ferrari'"
   ]
  },
  {
   "cell_type": "code",
   "execution_count": 4,
   "id": "65c530fe",
   "metadata": {},
   "outputs": [
    {
     "data": {
      "text/plain": [
       "['Mercedes', 'Ferrari', 'BMW', 'Range Rover', 'Audi', 'Bently']"
      ]
     },
     "execution_count": 4,
     "metadata": {},
     "output_type": "execute_result"
    }
   ],
   "source": [
    "cars"
   ]
  },
  {
   "cell_type": "code",
   "execution_count": 5,
   "id": "c876fd53",
   "metadata": {},
   "outputs": [],
   "source": [
    "fruits = ['apple','banana','mango','orange']\n",
    "fruits[:2]='gauva','pineapple'"
   ]
  },
  {
   "cell_type": "code",
   "execution_count": 6,
   "id": "eae160c2",
   "metadata": {},
   "outputs": [
    {
     "data": {
      "text/plain": [
       "['gauva', 'pineapple', 'mango', 'orange']"
      ]
     },
     "execution_count": 6,
     "metadata": {},
     "output_type": "execute_result"
    }
   ],
   "source": [
    "fruits"
   ]
  },
  {
   "cell_type": "code",
   "execution_count": 7,
   "id": "d1d7ecd6",
   "metadata": {},
   "outputs": [
    {
     "data": {
      "text/plain": [
       "['Mercedes', 'Ferrari', 'Tesla', 'BMW', 'Range Rover', 'Audi', 'Bently']"
      ]
     },
     "execution_count": 7,
     "metadata": {},
     "output_type": "execute_result"
    }
   ],
   "source": [
    "cars = ['Mercedes','Tesla','BMW','Range Rover','Audi','Bently']\n",
    "cars.insert(1,'Ferrari')\n",
    "cars"
   ]
  },
  {
   "cell_type": "markdown",
   "id": "c4672311",
   "metadata": {},
   "source": [
    "# .append()"
   ]
  },
  {
   "cell_type": "code",
   "execution_count": 8,
   "id": "e785816f",
   "metadata": {},
   "outputs": [],
   "source": [
    "gift = []"
   ]
  },
  {
   "cell_type": "code",
   "execution_count": 9,
   "id": "ace45650",
   "metadata": {},
   "outputs": [],
   "source": [
    "gift.append('cup')"
   ]
  },
  {
   "cell_type": "code",
   "execution_count": 10,
   "id": "0763b261",
   "metadata": {},
   "outputs": [
    {
     "data": {
      "text/plain": [
       "['cup']"
      ]
     },
     "execution_count": 10,
     "metadata": {},
     "output_type": "execute_result"
    }
   ],
   "source": [
    "gift"
   ]
  },
  {
   "cell_type": "code",
   "execution_count": 11,
   "id": "e80e25ef",
   "metadata": {},
   "outputs": [],
   "source": [
    "gift.append('vest')"
   ]
  },
  {
   "cell_type": "code",
   "execution_count": 12,
   "id": "65d8f8c6",
   "metadata": {},
   "outputs": [
    {
     "data": {
      "text/plain": [
       "['cup', 'vest']"
      ]
     },
     "execution_count": 12,
     "metadata": {},
     "output_type": "execute_result"
    }
   ],
   "source": [
    "gift"
   ]
  },
  {
   "cell_type": "markdown",
   "id": "5a7146c8",
   "metadata": {},
   "source": [
    "# .remove()"
   ]
  },
  {
   "cell_type": "code",
   "execution_count": 13,
   "id": "05ef7a7a",
   "metadata": {},
   "outputs": [],
   "source": [
    "fruits = ['Banana','Mango','Papaya','Orange']\n"
   ]
  },
  {
   "cell_type": "code",
   "execution_count": 14,
   "id": "c5f9528d",
   "metadata": {},
   "outputs": [],
   "source": [
    "fruits.remove('Mango')"
   ]
  },
  {
   "cell_type": "code",
   "execution_count": 15,
   "id": "1c9382a2",
   "metadata": {},
   "outputs": [
    {
     "data": {
      "text/plain": [
       "['Banana', 'Papaya', 'Orange']"
      ]
     },
     "execution_count": 15,
     "metadata": {},
     "output_type": "execute_result"
    }
   ],
   "source": [
    "fruits"
   ]
  },
  {
   "cell_type": "markdown",
   "id": "f2e4bce2",
   "metadata": {},
   "source": [
    "# .extend()"
   ]
  },
  {
   "cell_type": "code",
   "execution_count": 16,
   "id": "65ad339d",
   "metadata": {},
   "outputs": [],
   "source": [
    "n1 = [2,3,4]\n",
    "n2=[5,6,7]\n",
    "\n",
    "n1.extend(n2)\n"
   ]
  },
  {
   "cell_type": "code",
   "execution_count": 17,
   "id": "99ad247c",
   "metadata": {},
   "outputs": [
    {
     "data": {
      "text/plain": [
       "[2, 3, 4, 5, 6, 7]"
      ]
     },
     "execution_count": 17,
     "metadata": {},
     "output_type": "execute_result"
    }
   ],
   "source": [
    "n1"
   ]
  },
  {
   "cell_type": "code",
   "execution_count": 18,
   "id": "b6ae1d87",
   "metadata": {},
   "outputs": [
    {
     "data": {
      "text/plain": [
       "[1, 2, 3, 4, 5]"
      ]
     },
     "execution_count": 18,
     "metadata": {},
     "output_type": "execute_result"
    }
   ],
   "source": [
    "n = [1,2,3]\n",
    "n.extend([4,5])\n",
    "n"
   ]
  },
  {
   "cell_type": "markdown",
   "id": "f6fe4320",
   "metadata": {},
   "source": [
    "# pop()"
   ]
  },
  {
   "cell_type": "code",
   "execution_count": 19,
   "id": "99875f07",
   "metadata": {},
   "outputs": [],
   "source": [
    "fruits = ['Banana','Mango','Papaya','Orange']"
   ]
  },
  {
   "cell_type": "code",
   "execution_count": 20,
   "id": "8efc93cf",
   "metadata": {},
   "outputs": [
    {
     "data": {
      "text/plain": [
       "'Orange'"
      ]
     },
     "execution_count": 20,
     "metadata": {},
     "output_type": "execute_result"
    }
   ],
   "source": [
    "fruits.pop()"
   ]
  },
  {
   "cell_type": "code",
   "execution_count": 21,
   "id": "6196901c",
   "metadata": {},
   "outputs": [
    {
     "data": {
      "text/plain": [
       "['Banana', 'Mango', 'Papaya']"
      ]
     },
     "execution_count": 21,
     "metadata": {},
     "output_type": "execute_result"
    }
   ],
   "source": [
    "fruits"
   ]
  },
  {
   "cell_type": "code",
   "execution_count": 22,
   "id": "0da129a6",
   "metadata": {},
   "outputs": [
    {
     "data": {
      "text/plain": [
       "'Mango'"
      ]
     },
     "execution_count": 22,
     "metadata": {},
     "output_type": "execute_result"
    }
   ],
   "source": [
    "fruits.pop(1)"
   ]
  },
  {
   "cell_type": "code",
   "execution_count": 23,
   "id": "1aeb3f1b",
   "metadata": {},
   "outputs": [
    {
     "data": {
      "text/plain": [
       "['Banana', 'Papaya']"
      ]
     },
     "execution_count": 23,
     "metadata": {},
     "output_type": "execute_result"
    }
   ],
   "source": [
    "fruits"
   ]
  },
  {
   "cell_type": "code",
   "execution_count": 25,
   "id": "fe21da70",
   "metadata": {},
   "outputs": [],
   "source": [
    "#how to use python list as stack and queue"
   ]
  },
  {
   "cell_type": "markdown",
   "id": "ca8d06a5",
   "metadata": {},
   "source": [
    "# .clear()"
   ]
  },
  {
   "cell_type": "code",
   "execution_count": 26,
   "id": "9389d8e6",
   "metadata": {},
   "outputs": [
    {
     "data": {
      "text/plain": [
       "[1, 2, 3]"
      ]
     },
     "execution_count": 26,
     "metadata": {},
     "output_type": "execute_result"
    }
   ],
   "source": [
    "a = [1,2,3]\n",
    "a.clear\n",
    "a"
   ]
  },
  {
   "cell_type": "markdown",
   "id": "b3c9342b",
   "metadata": {},
   "source": [
    "# .sort()"
   ]
  },
  {
   "cell_type": "code",
   "execution_count": 27,
   "id": "42ca3340",
   "metadata": {},
   "outputs": [
    {
     "data": {
      "text/plain": [
       "[2, 3, 3, 4, 6, 9]"
      ]
     },
     "execution_count": 27,
     "metadata": {},
     "output_type": "execute_result"
    }
   ],
   "source": [
    "a = [4,3,6,2,9,3]\n",
    "a.sort()\n",
    "a"
   ]
  },
  {
   "cell_type": "code",
   "execution_count": 28,
   "id": "9e8ce939",
   "metadata": {},
   "outputs": [
    {
     "data": {
      "text/plain": [
       "[9, 6, 4, 3, 3, 2]"
      ]
     },
     "execution_count": 28,
     "metadata": {},
     "output_type": "execute_result"
    }
   ],
   "source": [
    "a = [4,3,6,2,9,3]\n",
    "a.sort(reverse=True)\n",
    "a"
   ]
  },
  {
   "cell_type": "markdown",
   "id": "6bf02012",
   "metadata": {},
   "source": [
    "# .reverse()\n"
   ]
  },
  {
   "cell_type": "code",
   "execution_count": 29,
   "id": "a4f14643",
   "metadata": {},
   "outputs": [
    {
     "data": {
      "text/plain": [
       "[3, 9, 2, 6, 3, 4]"
      ]
     },
     "execution_count": 29,
     "metadata": {},
     "output_type": "execute_result"
    }
   ],
   "source": [
    "a = [4,3,6,2,9,3]\n",
    "a.reverse()\n",
    "a"
   ]
  },
  {
   "cell_type": "markdown",
   "id": "5c1bb8a7",
   "metadata": {},
   "source": [
    "# .index()\n"
   ]
  },
  {
   "cell_type": "code",
   "execution_count": 30,
   "id": "7f6843e8",
   "metadata": {},
   "outputs": [
    {
     "data": {
      "text/plain": [
       "1"
      ]
     },
     "execution_count": 30,
     "metadata": {},
     "output_type": "execute_result"
    }
   ],
   "source": [
    "a = [2,4,2,4,5,6,2,1,4,6,8]\n",
    "a.index(4)"
   ]
  },
  {
   "cell_type": "code",
   "execution_count": 31,
   "id": "e2c936a1",
   "metadata": {},
   "outputs": [
    {
     "data": {
      "text/plain": [
       "0"
      ]
     },
     "execution_count": 31,
     "metadata": {},
     "output_type": "execute_result"
    }
   ],
   "source": [
    "a.index(2)"
   ]
  },
  {
   "cell_type": "code",
   "execution_count": 32,
   "id": "1c4cf8d6",
   "metadata": {},
   "outputs": [
    {
     "data": {
      "text/plain": [
       "2"
      ]
     },
     "execution_count": 32,
     "metadata": {},
     "output_type": "execute_result"
    }
   ],
   "source": [
    "a.index(2,1,4)# index of 2 between index 2 and 4"
   ]
  },
  {
   "cell_type": "markdown",
   "id": "868e656e",
   "metadata": {},
   "source": [
    "# .copy()"
   ]
  },
  {
   "cell_type": "code",
   "execution_count": 33,
   "id": "2870ea3f",
   "metadata": {},
   "outputs": [
    {
     "data": {
      "text/plain": [
       "[2, 3, 4]"
      ]
     },
     "execution_count": 33,
     "metadata": {},
     "output_type": "execute_result"
    }
   ],
   "source": [
    "a = [2,3,4]\n",
    "b = a.copy()\n",
    "b"
   ]
  },
  {
   "cell_type": "markdown",
   "id": "ab9f2a5f",
   "metadata": {},
   "source": [
    "# .insert()"
   ]
  },
  {
   "cell_type": "code",
   "execution_count": 34,
   "id": "5d4daf37",
   "metadata": {},
   "outputs": [
    {
     "data": {
      "text/plain": [
       "['Ram', 'Sita', 'Gita', 'Shyam', 'Hari']"
      ]
     },
     "execution_count": 34,
     "metadata": {},
     "output_type": "execute_result"
    }
   ],
   "source": [
    "a = ['Ram','Gita','Shyam','Hari']\n",
    "a.insert(1,'Sita')\n",
    "a"
   ]
  },
  {
   "cell_type": "markdown",
   "id": "5c5cad45",
   "metadata": {},
   "source": [
    "# .count()"
   ]
  },
  {
   "cell_type": "code",
   "execution_count": 36,
   "id": "22c07eb3",
   "metadata": {},
   "outputs": [
    {
     "data": {
      "text/plain": [
       "2"
      ]
     },
     "execution_count": 36,
     "metadata": {},
     "output_type": "execute_result"
    }
   ],
   "source": [
    "b = ['Ram','Shyam','Hari','Gopal','Sita','Ram']\n",
    "b.count('Ram')"
   ]
  },
  {
   "cell_type": "code",
   "execution_count": 38,
   "id": "5c4696af",
   "metadata": {},
   "outputs": [
    {
     "data": {
      "text/plain": [
       "2"
      ]
     },
     "execution_count": 38,
     "metadata": {},
     "output_type": "execute_result"
    }
   ],
   "source": [
    "b.count(b[0])"
   ]
  },
  {
   "cell_type": "code",
   "execution_count": 39,
   "id": "74aef491",
   "metadata": {},
   "outputs": [
    {
     "data": {
      "text/plain": [
       "1"
      ]
     },
     "execution_count": 39,
     "metadata": {},
     "output_type": "execute_result"
    }
   ],
   "source": [
    "b.count('Sita')"
   ]
  },
  {
   "cell_type": "markdown",
   "id": "8459c942",
   "metadata": {},
   "source": [
    "# update element "
   ]
  },
  {
   "cell_type": "code",
   "execution_count": 40,
   "id": "a49d43d7",
   "metadata": {},
   "outputs": [
    {
     "data": {
      "text/plain": [
       "['Ram', 'Sita', 'Hari', 'Gopal', 'Sita', 'Ram']"
      ]
     },
     "execution_count": 40,
     "metadata": {},
     "output_type": "execute_result"
    }
   ],
   "source": [
    "b = ['Ram','Shyam','Hari','Gopal','Sita','Ram']\n",
    "b[1]='Sita'\n",
    "b"
   ]
  },
  {
   "cell_type": "code",
   "execution_count": null,
   "id": "4192497b",
   "metadata": {},
   "outputs": [],
   "source": []
  }
 ],
 "metadata": {
  "kernelspec": {
   "display_name": "Python 3",
   "language": "python",
   "name": "python3"
  },
  "language_info": {
   "codemirror_mode": {
    "name": "ipython",
    "version": 3
   },
   "file_extension": ".py",
   "mimetype": "text/x-python",
   "name": "python",
   "nbconvert_exporter": "python",
   "pygments_lexer": "ipython3",
   "version": "3.8.8"
  }
 },
 "nbformat": 4,
 "nbformat_minor": 5
}
