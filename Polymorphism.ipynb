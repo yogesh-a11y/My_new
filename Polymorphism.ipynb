{
 "cells": [
  {
   "cell_type": "code",
   "execution_count": 1,
   "id": "6c87222e",
   "metadata": {},
   "outputs": [
    {
     "data": {
      "text/plain": [
       "5"
      ]
     },
     "execution_count": 1,
     "metadata": {},
     "output_type": "execute_result"
    }
   ],
   "source": [
    "2 + 3"
   ]
  },
  {
   "cell_type": "code",
   "execution_count": 3,
   "id": "d807688c",
   "metadata": {},
   "outputs": [
    {
     "data": {
      "text/plain": [
       "'Ram Sita'"
      ]
     },
     "execution_count": 3,
     "metadata": {},
     "output_type": "execute_result"
    }
   ],
   "source": [
    "\"Ram\" + \"Sita\""
   ]
  },
  {
   "cell_type": "code",
   "execution_count": 4,
   "id": "fcf84ff9",
   "metadata": {},
   "outputs": [
    {
     "data": {
      "text/plain": [
       "[2, 3, 1, 5]"
      ]
     },
     "execution_count": 4,
     "metadata": {},
     "output_type": "execute_result"
    }
   ],
   "source": [
    "[2,3]+[1,5]"
   ]
  },
  {
   "cell_type": "code",
   "execution_count": 5,
   "id": "ed4c7dcc",
   "metadata": {},
   "outputs": [],
   "source": [
    "class Account:\n",
    "    def __init__(self,name , balance):\n",
    "        self.name = name\n",
    "        self.balance = balance"
   ]
  },
  {
   "cell_type": "code",
   "execution_count": 6,
   "id": "38b093af",
   "metadata": {},
   "outputs": [],
   "source": [
    "ac1 = Account(name = 'Rahul',balance=50000)\n",
    "ac2 = Account(name = 'Hari', balance = 72382)"
   ]
  },
  {
   "cell_type": "markdown",
   "id": "6a27b9f9",
   "metadata": {},
   "source": [
    "## Dunder\n",
    "* Dunder or magic method in python are the methods having two prefix and suffix underscores in the method name. Dunder here means \"Double Under (Underscores)\". These are commonly used for operator overloding.\n",
    "\n",
    "*\\ __add__ is used to overload + operator in user defined class"
   ]
  },
  {
   "cell_type": "code",
   "execution_count": 7,
   "id": "abe125a9",
   "metadata": {},
   "outputs": [],
   "source": [
    "class Account:\n",
    "    def __init__(self, name, balance):\n",
    "        self.name = name\n",
    "        self.balance = balance\n",
    "    def __add__(self,other_obj):\n",
    "        return self.balance + other_obj.balance\n",
    "    "
   ]
  },
  {
   "cell_type": "code",
   "execution_count": 8,
   "id": "23fb353e",
   "metadata": {},
   "outputs": [],
   "source": [
    "ac1 = Account(name = 'Rahul',balance=50000)\n",
    "ac2 = Account(name = 'Hari', balance = 72382)"
   ]
  },
  {
   "cell_type": "code",
   "execution_count": 9,
   "id": "b54b39b0",
   "metadata": {},
   "outputs": [
    {
     "data": {
      "text/plain": [
       "122382"
      ]
     },
     "execution_count": 9,
     "metadata": {},
     "output_type": "execute_result"
    }
   ],
   "source": [
    "ac1 + ac2"
   ]
  },
  {
   "cell_type": "code",
   "execution_count": 14,
   "id": "0ee392a2",
   "metadata": {},
   "outputs": [],
   "source": [
    "class Account:\n",
    "    def __init__(self, name, balance):\n",
    "        self.name = name\n",
    "        self.balance = balance\n",
    "        \n",
    "    def __add__(self,other_obj):\n",
    "        return self.balance + other_obj.balance\n",
    "    \n",
    "    def __lt__(self, other_obj):\n",
    "        if self.balance < other_obj.balance:\n",
    "            print(\"Account 1 has lower balance\")\n",
    "        \n",
    "    def __gt__(self, other_obj):\n",
    "        if self.balance > other_obj.balance:\n",
    "            print(\"Account 1 has higher balance\")\n",
    "        "
   ]
  },
  {
   "cell_type": "code",
   "execution_count": 15,
   "id": "5d49b2c0",
   "metadata": {},
   "outputs": [],
   "source": [
    "ac1 = Account(name = 'Rahul',balance=50000)\n",
    "ac2 = Account(name = 'Hari', balance = 72382)"
   ]
  },
  {
   "cell_type": "code",
   "execution_count": 16,
   "id": "2e19c63c",
   "metadata": {},
   "outputs": [
    {
     "name": "stdout",
     "output_type": "stream",
     "text": [
      "Account 1 has lower balance\n"
     ]
    }
   ],
   "source": [
    "ac1 < ac2"
   ]
  },
  {
   "cell_type": "code",
   "execution_count": 17,
   "id": "363a27bc",
   "metadata": {},
   "outputs": [
    {
     "name": "stdout",
     "output_type": "stream",
     "text": [
      "Account 1 has higher balance\n"
     ]
    }
   ],
   "source": [
    "ac2 > ac1"
   ]
  },
  {
   "cell_type": "markdown",
   "id": "9440da9a",
   "metadata": {},
   "source": [
    "# Polymorphism can occur in inheritance by overriding the parent class method or function on child class"
   ]
  },
  {
   "cell_type": "code",
   "execution_count": 22,
   "id": "3c8d743d",
   "metadata": {},
   "outputs": [],
   "source": [
    "class Parent:\n",
    "    def show(self):\n",
    "        print('Parent Money')\n",
    "    \n",
    "class Child(Parent):\n",
    "    def __init__(self):\n",
    "        super().__init__()\n",
    "    def show(self):\n",
    "        print(\"Children money\")\n",
    "        "
   ]
  },
  {
   "cell_type": "code",
   "execution_count": 23,
   "id": "13539e25",
   "metadata": {},
   "outputs": [],
   "source": [
    "c1 = Child()"
   ]
  },
  {
   "cell_type": "code",
   "execution_count": 24,
   "id": "3cb004a8",
   "metadata": {},
   "outputs": [
    {
     "name": "stdout",
     "output_type": "stream",
     "text": [
      "Children money\n"
     ]
    }
   ],
   "source": [
    "c1.show() # if child has show function then it won't takes show func from parent class"
   ]
  },
  {
   "cell_type": "code",
   "execution_count": 25,
   "id": "616167ea",
   "metadata": {},
   "outputs": [],
   "source": [
    "class Parent:\n",
    "    def show(self):\n",
    "        print('Parent Money')\n",
    "    \n",
    "class Child(Parent):\n",
    "    def __init__(self):\n",
    "        super().__init__()\n",
    "    "
   ]
  },
  {
   "cell_type": "code",
   "execution_count": 26,
   "id": "45bca2a1",
   "metadata": {},
   "outputs": [],
   "source": [
    "c1 = Child()"
   ]
  },
  {
   "cell_type": "code",
   "execution_count": 27,
   "id": "956d8ec2",
   "metadata": {},
   "outputs": [
    {
     "name": "stdout",
     "output_type": "stream",
     "text": [
      "Parent Money\n"
     ]
    }
   ],
   "source": [
    "c1.show() # if child don't have show function it takes from parent class"
   ]
  },
  {
   "cell_type": "code",
   "execution_count": null,
   "id": "9e7915d0",
   "metadata": {},
   "outputs": [],
   "source": []
  }
 ],
 "metadata": {
  "kernelspec": {
   "display_name": "Python 3",
   "language": "python",
   "name": "python3"
  },
  "language_info": {
   "codemirror_mode": {
    "name": "ipython",
    "version": 3
   },
   "file_extension": ".py",
   "mimetype": "text/x-python",
   "name": "python",
   "nbconvert_exporter": "python",
   "pygments_lexer": "ipython3",
   "version": "3.8.8"
  }
 },
 "nbformat": 4,
 "nbformat_minor": 5
}
