{
 "cells": [
  {
   "cell_type": "markdown",
   "id": "fc6e7b96",
   "metadata": {},
   "source": [
    "# lambda function / Anonymous function\n",
    "```python\n",
    " lambda arguments : Expression\n",
    "\n",
    "```\n",
    "* used with map() and filter()"
   ]
  },
  {
   "cell_type": "code",
   "execution_count": 1,
   "id": "46fdac1f",
   "metadata": {},
   "outputs": [
    {
     "data": {
      "text/plain": [
       "[1, 4, 9, 16, 25, 36, 49, 64, 81]"
      ]
     },
     "execution_count": 1,
     "metadata": {},
     "output_type": "execute_result"
    }
   ],
   "source": [
    "data = range(1,10)\n",
    "sq = []\n",
    "\n",
    "for index in data:\n",
    "    sq.append(index ** 2)\n",
    "sq\n"
   ]
  },
  {
   "cell_type": "code",
   "execution_count": 2,
   "id": "0bc89c98",
   "metadata": {},
   "outputs": [
    {
     "data": {
      "text/plain": [
       "[1, 4, 9, 16, 25, 36, 49, 64, 81]"
      ]
     },
     "execution_count": 2,
     "metadata": {},
     "output_type": "execute_result"
    }
   ],
   "source": [
    "[index**2 for index in range(1,10)]"
   ]
  },
  {
   "cell_type": "code",
   "execution_count": 4,
   "id": "a71a8936",
   "metadata": {},
   "outputs": [
    {
     "data": {
      "text/plain": [
       "[1, 4, 9, 16, 25, 36, 49, 64, 81]"
      ]
     },
     "execution_count": 4,
     "metadata": {},
     "output_type": "execute_result"
    }
   ],
   "source": [
    "list(map(lambda x: x**2, range(1,10))) # x is argument"
   ]
  },
  {
   "cell_type": "code",
   "execution_count": 7,
   "id": "590c3da0",
   "metadata": {},
   "outputs": [
    {
     "data": {
      "text/plain": [
       "[3375, 4096, 4913, 5832, 6859, 8000]"
      ]
     },
     "execution_count": 7,
     "metadata": {},
     "output_type": "execute_result"
    }
   ],
   "source": [
    "list(map(lambda x: x ** 3, range(15,21)))"
   ]
  },
  {
   "cell_type": "code",
   "execution_count": 9,
   "id": "5a558b10",
   "metadata": {},
   "outputs": [
    {
     "data": {
      "text/plain": [
       "[46, 48, 50, 52]"
      ]
     },
     "execution_count": 9,
     "metadata": {},
     "output_type": "execute_result"
    }
   ],
   "source": [
    "list(filter(lambda x: x%2 == 0, range(45,54)))"
   ]
  },
  {
   "cell_type": "code",
   "execution_count": 10,
   "id": "3b8ad266",
   "metadata": {},
   "outputs": [
    {
     "data": {
      "text/plain": [
       "[31, 33, 35, 37, 39]"
      ]
     },
     "execution_count": 10,
     "metadata": {},
     "output_type": "execute_result"
    }
   ],
   "source": [
    "list(filter(lambda x: x%2 == 1, range(31,41)))"
   ]
  },
  {
   "cell_type": "markdown",
   "id": "2dc234db",
   "metadata": {},
   "source": [
    "# random number generation"
   ]
  },
  {
   "cell_type": "code",
   "execution_count": 13,
   "id": "bccb8a3c",
   "metadata": {},
   "outputs": [],
   "source": [
    "import random as rn"
   ]
  },
  {
   "cell_type": "code",
   "execution_count": 15,
   "id": "a798343f",
   "metadata": {},
   "outputs": [
    {
     "data": {
      "text/plain": [
       "2"
      ]
     },
     "execution_count": 15,
     "metadata": {},
     "output_type": "execute_result"
    }
   ],
   "source": [
    "random.randint(1,9) #generate random integer between 1(include) to 9(include)"
   ]
  },
  {
   "cell_type": "code",
   "execution_count": 19,
   "id": "07b57563",
   "metadata": {},
   "outputs": [
    {
     "data": {
      "text/plain": [
       "7"
      ]
     },
     "execution_count": 19,
     "metadata": {},
     "output_type": "execute_result"
    }
   ],
   "source": [
    "rn.seed(0) # using seed its gives always same random number\n",
    "rn.randint(1,9)"
   ]
  },
  {
   "cell_type": "markdown",
   "id": "d03db086",
   "metadata": {},
   "source": [
    "# while loop"
   ]
  },
  {
   "cell_type": "code",
   "execution_count": 20,
   "id": "28c0d2a5",
   "metadata": {},
   "outputs": [],
   "source": [
    "random.seed(40)\n",
    "data = [random.randint(1,150) for i in range(8)]"
   ]
  },
  {
   "cell_type": "code",
   "execution_count": 21,
   "id": "1fe8a582",
   "metadata": {},
   "outputs": [
    {
     "data": {
      "text/plain": [
       "[118, 149, 135, 9, 63, 73, 53, 33]"
      ]
     },
     "execution_count": 21,
     "metadata": {},
     "output_type": "execute_result"
    }
   ],
   "source": [
    "data"
   ]
  },
  {
   "cell_type": "code",
   "execution_count": 24,
   "id": "922d4f1c",
   "metadata": {},
   "outputs": [],
   "source": [
    "index = 0\n",
    "total = 0\n",
    "\n",
    "while index < len(data):\n",
    "    total = total + data[index]\n",
    "    \n",
    "    index = index + 1"
   ]
  },
  {
   "cell_type": "code",
   "execution_count": 25,
   "id": "3a78cf5a",
   "metadata": {},
   "outputs": [
    {
     "data": {
      "text/plain": [
       "633"
      ]
     },
     "execution_count": 25,
     "metadata": {},
     "output_type": "execute_result"
    }
   ],
   "source": [
    "total"
   ]
  },
  {
   "cell_type": "code",
   "execution_count": 26,
   "id": "d361f7c1",
   "metadata": {},
   "outputs": [],
   "source": [
    "mean = total/len(data)"
   ]
  },
  {
   "cell_type": "code",
   "execution_count": 27,
   "id": "bb2f2cbc",
   "metadata": {},
   "outputs": [
    {
     "data": {
      "text/plain": [
       "79.125"
      ]
     },
     "execution_count": 27,
     "metadata": {},
     "output_type": "execute_result"
    }
   ],
   "source": [
    "mean"
   ]
  },
  {
   "cell_type": "markdown",
   "id": "ccf52e27",
   "metadata": {},
   "source": [
    "# Nested for loop \n"
   ]
  },
  {
   "cell_type": "code",
   "execution_count": 36,
   "id": "76b2244c",
   "metadata": {},
   "outputs": [
    {
     "name": "stdout",
     "output_type": "stream",
     "text": [
      ".......\n",
      "1 = 0\n",
      ".......\n",
      "j = 0\n",
      "j = 1\n",
      "j = 2\n",
      ".......\n",
      "1 = 1\n",
      ".......\n",
      "j = 0\n",
      "j = 1\n",
      "j = 2\n",
      ".......\n",
      "1 = 2\n",
      ".......\n",
      "j = 0\n",
      "j = 1\n",
      "j = 2\n",
      ".......\n",
      "1 = 3\n",
      ".......\n",
      "j = 0\n",
      "j = 1\n",
      "j = 2\n",
      ".......\n",
      "1 = 4\n",
      ".......\n",
      "j = 0\n",
      "j = 1\n",
      "j = 2\n"
     ]
    }
   ],
   "source": [
    "for i in range(5):\n",
    "    print('.......')\n",
    "    print(f'1 = {i}')\n",
    "    print('.......')\n",
    "    \n",
    "    for j in range(3):\n",
    "        print(f'j = {j}')"
   ]
  },
  {
   "cell_type": "code",
   "execution_count": null,
   "id": "9e4b300f",
   "metadata": {},
   "outputs": [],
   "source": []
  },
  {
   "cell_type": "code",
   "execution_count": null,
   "id": "a0789d7c",
   "metadata": {},
   "outputs": [],
   "source": []
  },
  {
   "cell_type": "code",
   "execution_count": null,
   "id": "1eb3ae51",
   "metadata": {},
   "outputs": [],
   "source": []
  },
  {
   "cell_type": "code",
   "execution_count": 49,
   "id": "195e1d44",
   "metadata": {},
   "outputs": [],
   "source": [
    "random.seed(55)\n",
    "data = [[random.randint(1,100) for i in range(4)] for i in range(6)]"
   ]
  },
  {
   "cell_type": "code",
   "execution_count": 50,
   "id": "6d205763",
   "metadata": {},
   "outputs": [
    {
     "data": {
      "text/plain": [
       "[[12, 26, 20, 95],\n",
       " [39, 11, 96, 24],\n",
       " [39, 12, 46, 93],\n",
       " [85, 61, 70, 50],\n",
       " [50, 65, 52, 41],\n",
       " [93, 55, 69, 99]]"
      ]
     },
     "execution_count": 50,
     "metadata": {},
     "output_type": "execute_result"
    }
   ],
   "source": [
    "data"
   ]
  },
  {
   "cell_type": "code",
   "execution_count": 51,
   "id": "152a269e",
   "metadata": {},
   "outputs": [],
   "source": [
    "item = [12, 26, 20, 95]\n",
    "total = 0\n",
    "\n",
    "for datapoint in item:\n",
    "    total = total + datapoint\n",
    "x_bar = total/len(item)\n",
    "mean.append(x_bar)"
   ]
  },
  {
   "cell_type": "code",
   "execution_count": null,
   "id": "2b832676",
   "metadata": {},
   "outputs": [],
   "source": [
    "mean"
   ]
  },
  {
   "cell_type": "code",
   "execution_count": 47,
   "id": "086ca637",
   "metadata": {},
   "outputs": [],
   "source": [
    "random.seed(55)\n",
    "data = [[random.randint(1,100) for i in range(4)] for i in range(6)]\n",
    "mean = []\n",
    "for item in data:\n",
    "    total = 0\n",
    "   \n",
    "    for data_point in item:\n",
    "        total = total + data_point\n",
    "        \n",
    "    x_bar = total/len(item)\n",
    "    mean.append(x_bar)\n",
    "        \n",
    "        "
   ]
  },
  {
   "cell_type": "code",
   "execution_count": 48,
   "id": "df7672f3",
   "metadata": {},
   "outputs": [
    {
     "data": {
      "text/plain": [
       "[38.25, 42.5, 47.5, 66.5, 52.0, 79.0]"
      ]
     },
     "execution_count": 48,
     "metadata": {},
     "output_type": "execute_result"
    }
   ],
   "source": [
    "mean"
   ]
  },
  {
   "cell_type": "markdown",
   "id": "67c2ae26",
   "metadata": {},
   "source": [
    "# Decorators, Iterators and generators, dataclass, abstract class"
   ]
  },
  {
   "cell_type": "code",
   "execution_count": null,
   "id": "65fb20ca",
   "metadata": {},
   "outputs": [],
   "source": []
  }
 ],
 "metadata": {
  "kernelspec": {
   "display_name": "Python 3",
   "language": "python",
   "name": "python3"
  },
  "language_info": {
   "codemirror_mode": {
    "name": "ipython",
    "version": 3
   },
   "file_extension": ".py",
   "mimetype": "text/x-python",
   "name": "python",
   "nbconvert_exporter": "python",
   "pygments_lexer": "ipython3",
   "version": "3.8.8"
  }
 },
 "nbformat": 4,
 "nbformat_minor": 5
}
