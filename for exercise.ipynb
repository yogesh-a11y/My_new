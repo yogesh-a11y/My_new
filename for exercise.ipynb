{
 "cells": [
  {
   "cell_type": "code",
   "execution_count": null,
   "id": "7139e4f7",
   "metadata": {},
   "outputs": [],
   "source": [
    "for i in range(4):\n",
    "    for j in range(i+1):\n",
    "        print('#',end='')\n",
    "    print()   \n",
    "    "
   ]
  },
  {
   "cell_type": "code",
   "execution_count": null,
   "id": "6009042a",
   "metadata": {},
   "outputs": [],
   "source": [
    "for i in range(1,4):\n",
    "    for j in range(i):\n",
    "        print('*',end = '')\n",
    "    print()"
   ]
  },
  {
   "cell_type": "code",
   "execution_count": null,
   "id": "c1a76398",
   "metadata": {},
   "outputs": [],
   "source": [
    "for i in range(1,4):\n",
    "    print('*',end='')"
   ]
  },
  {
   "cell_type": "code",
   "execution_count": null,
   "id": "da3b91bb",
   "metadata": {},
   "outputs": [],
   "source": [
    "for i in range(4):\n",
    "    for j in range(i):\n",
    "        print('#',end = '')\n",
    "    print()"
   ]
  },
  {
   "cell_type": "code",
   "execution_count": null,
   "id": "398b553a",
   "metadata": {},
   "outputs": [],
   "source": [
    "for i in range(4):\n",
    "    for j in range(4-i):\n",
    "        print('#',end='')\n",
    "    print('____')"
   ]
  },
  {
   "cell_type": "code",
   "execution_count": null,
   "id": "8b706c03",
   "metadata": {},
   "outputs": [],
   "source": [
    "for i in range(1,5):\n",
    "    \n",
    "    for j in range(i,5):\n",
    "        print(j,end='')\n",
    "        \n",
    "    print()"
   ]
  },
  {
   "cell_type": "code",
   "execution_count": null,
   "id": "926ccfa8",
   "metadata": {},
   "outputs": [],
   "source": [
    "for i in range(5):\n",
    "    for j in range(i):\n",
    "        print('#',end='')\n",
    "    print()"
   ]
  },
  {
   "cell_type": "code",
   "execution_count": null,
   "id": "59f563ec",
   "metadata": {},
   "outputs": [],
   "source": [
    "for item in range(5):\n",
    "    print(item)"
   ]
  },
  {
   "cell_type": "code",
   "execution_count": null,
   "id": "732b1eb0",
   "metadata": {},
   "outputs": [],
   "source": [
    "for a in range(5):\n",
    "    for b in range(5-a):\n",
    "        print('#',end='')\n",
    "    print()"
   ]
  },
  {
   "cell_type": "code",
   "execution_count": null,
   "id": "0b47b7c8",
   "metadata": {},
   "outputs": [],
   "source": [
    "l = ['p','q','r','s','t']\n",
    "\n",
    "for i in range(len(l)):\n",
    "    for j in range(i,len(l)):\n",
    "        print(l[j],end='')\n",
    "    print()"
   ]
  },
  {
   "cell_type": "code",
   "execution_count": null,
   "id": "d52bd3e5",
   "metadata": {},
   "outputs": [],
   "source": [
    "l = ['p','q','r','s','t']\n",
    "len(l)"
   ]
  },
  {
   "cell_type": "code",
   "execution_count": null,
   "id": "167e826a",
   "metadata": {},
   "outputs": [],
   "source": [
    "for i in range(1,6):\n",
    "    for j in range(1,i+1):\n",
    "        print(j,end='')\n",
    "    print()"
   ]
  },
  {
   "cell_type": "code",
   "execution_count": null,
   "id": "6d55cf6c",
   "metadata": {},
   "outputs": [],
   "source": [
    "num = int(input(\"Enter a number\"))\n",
    "sum_of_num = 0\n",
    "\n",
    "for i in range(num+1):\n",
    "    sum_of_num = sum_of_num+i\n",
    "\n",
    "average = sum_of_num/2\n",
    "print(sum_of_num,average)\n"
   ]
  },
  {
   "cell_type": "code",
   "execution_count": null,
   "id": "643c4c15",
   "metadata": {},
   "outputs": [],
   "source": [
    "a = list(range(10))"
   ]
  },
  {
   "cell_type": "code",
   "execution_count": null,
   "id": "6f0af6f4",
   "metadata": {},
   "outputs": [],
   "source": [
    "for a in range(1,21):\n",
    "    if a%2 == 0:\n",
    "        print(a)\n",
    "    else:\n",
    "        continue"
   ]
  },
  {
   "cell_type": "code",
   "execution_count": null,
   "id": "d861db55",
   "metadata": {},
   "outputs": [],
   "source": [
    "n = 2\n",
    "for a in range(1,11):\n",
    "    product = 2*a\n",
    "    print(product)\n"
   ]
  },
  {
   "cell_type": "code",
   "execution_count": null,
   "id": "c04c0818",
   "metadata": {},
   "outputs": [],
   "source": [
    "#print number divisible by 5 break if greater than 500\n",
    "# and if greater than 150 continue\n",
    "numbers = [12,75,150,180,145,525,50]\n",
    "\n",
    "for a in numbers:\n",
    "    if a>500:\n",
    "        break\n",
    "    elif a>150:\n",
    "        continue\n",
    "    elif a%5==0:\n",
    "        print(a)\n",
    "    else:\n",
    "        pass\n",
    "             \n",
    "        "
   ]
  },
  {
   "cell_type": "code",
   "execution_count": 3,
   "id": "d54da545",
   "metadata": {},
   "outputs": [
    {
     "name": "stdout",
     "output_type": "stream",
     "text": [
      "54321\n",
      "4321\n",
      "321\n",
      "21\n",
      "1\n"
     ]
    }
   ],
   "source": [
    "for i in range(5,0,-1):\n",
    "    for j in range(i,0,-1):\n",
    "        print(j,end='')\n",
    "    print()"
   ]
  },
  {
   "cell_type": "code",
   "execution_count": 7,
   "id": "f40d03d1",
   "metadata": {},
   "outputs": [
    {
     "name": "stdout",
     "output_type": "stream",
     "text": [
      "654321\n",
      "54321\n",
      "4321\n",
      "321\n",
      "21\n",
      "1\n"
     ]
    }
   ],
   "source": [
    "for a in range(6,0,-1):\n",
    "    for b in range(a,0,-1):\n",
    "        print(b,end='')\n",
    "    print()"
   ]
  },
  {
   "cell_type": "code",
   "execution_count": 8,
   "id": "018942fd",
   "metadata": {},
   "outputs": [
    {
     "name": "stdout",
     "output_type": "stream",
     "text": [
      "5 4 3 2 1 \n",
      "4 3 2 1 \n",
      "3 2 1 \n",
      "2 1 \n",
      "1 \n",
      "\n"
     ]
    }
   ],
   "source": [
    "n = 5\n",
    "k = 5\n",
    "for i in range(0,n+1):\n",
    "    for j in range(k-i,0,-1):\n",
    "        print(j,end=' ')\n",
    "    print()"
   ]
  },
  {
   "cell_type": "code",
   "execution_count": 21,
   "id": "b628234b",
   "metadata": {},
   "outputs": [
    {
     "name": "stdout",
     "output_type": "stream",
     "text": [
      "50\n",
      "40\n",
      "30\n",
      "20\n",
      "10\n"
     ]
    }
   ],
   "source": [
    "list1 = [10,20,30,40,50]\n",
    "\n",
    "for item in range(len(list1)-1,-1,-1):\n",
    "    rev=list1[item]\n",
    "    print(rev)"
   ]
  },
  {
   "cell_type": "code",
   "execution_count": 34,
   "id": "64923517",
   "metadata": {},
   "outputs": [
    {
     "name": "stdout",
     "output_type": "stream",
     "text": [
      "50\n",
      "40\n",
      "30\n",
      "20\n",
      "10\n"
     ]
    }
   ],
   "source": [
    "list1 = [10,20,30,40,50]\n",
    "list1.reverse()\n",
    "\n",
    "for li in list1:\n",
    "    print(li)"
   ]
  },
  {
   "cell_type": "code",
   "execution_count": 35,
   "id": "e41ef3b9",
   "metadata": {},
   "outputs": [
    {
     "name": "stdout",
     "output_type": "stream",
     "text": [
      "50\n",
      "40\n",
      "30\n",
      "20\n",
      "10\n"
     ]
    }
   ],
   "source": [
    "list1 = [10,20,30,40,50]\n",
    "new_list = reversed(list1)\n",
    "\n",
    "for i in new_list:\n",
    "    print(i)"
   ]
  },
  {
   "cell_type": "code",
   "execution_count": 36,
   "id": "a7714bfe",
   "metadata": {},
   "outputs": [
    {
     "name": "stdout",
     "output_type": "stream",
     "text": [
      "-10\n",
      "-9\n",
      "-8\n",
      "-7\n",
      "-6\n",
      "-5\n",
      "-4\n",
      "-3\n",
      "-2\n",
      "-1\n"
     ]
    }
   ],
   "source": [
    "for i in range(-10,0):\n",
    "    print(i)"
   ]
  },
  {
   "cell_type": "code",
   "execution_count": 37,
   "id": "92bd6f91",
   "metadata": {},
   "outputs": [
    {
     "name": "stdout",
     "output_type": "stream",
     "text": [
      "0\n",
      "1\n",
      "2\n",
      "3\n",
      "4\n",
      "Done!\n"
     ]
    }
   ],
   "source": [
    "for a in range(5):\n",
    "    print(a)\n",
    "print('Done!')"
   ]
  },
  {
   "cell_type": "code",
   "execution_count": 38,
   "id": "5a8d18fc",
   "metadata": {},
   "outputs": [
    {
     "name": "stdout",
     "output_type": "stream",
     "text": [
      "29\n",
      "31\n",
      "37\n",
      "41\n",
      "43\n",
      "47\n"
     ]
    }
   ],
   "source": [
    "for a in range(25,51):\n",
    "    if a > 1:\n",
    "        for b in range(2,a):\n",
    "            if a%b == 0:\n",
    "                break\n",
    "        else:\n",
    "            print(a)"
   ]
  },
  {
   "cell_type": "code",
   "execution_count": 41,
   "id": "0be995c6",
   "metadata": {},
   "outputs": [
    {
     "name": "stdout",
     "output_type": "stream",
     "text": [
      "29\n",
      "31\n",
      "37\n",
      "41\n",
      "43\n",
      "47\n"
     ]
    }
   ],
   "source": [
    "for i in range(25,51):\n",
    "    if i > 1:\n",
    "        for j in range(2,i):\n",
    "            if i%j == 0:\n",
    "                break\n",
    "        else:\n",
    "            print(i)"
   ]
  },
  {
   "cell_type": "code",
   "execution_count": 44,
   "id": "21f8f9c4",
   "metadata": {},
   "outputs": [
    {
     "name": "stdout",
     "output_type": "stream",
     "text": [
      "29\n",
      "31\n",
      "37\n",
      "41\n",
      "43\n",
      "47\n"
     ]
    }
   ],
   "source": [
    "for a in range(25,51):\n",
    "    for b in range(2,a):\n",
    "        if a%b == 0:\n",
    "            break\n",
    "    else:\n",
    "        print(a,end='')\n",
    "        "
   ]
  },
  {
   "cell_type": "code",
   "execution_count": 46,
   "id": "10f95774",
   "metadata": {},
   "outputs": [
    {
     "name": "stdout",
     "output_type": "stream",
     "text": [
      "3 5\n",
      "4 6\n",
      "5 7\n",
      "6 9\n"
     ]
    }
   ],
   "source": [
    "a = [1,3,4,5,6,7,9,2]\n",
    "\n",
    "for items in range(3,7):\n",
    "    print(items,a[items])"
   ]
  },
  {
   "cell_type": "code",
   "execution_count": 49,
   "id": "5cd5b62c",
   "metadata": {},
   "outputs": [
    {
     "name": "stdout",
     "output_type": "stream",
     "text": [
      "1\n",
      "3\n",
      "4\n",
      "5\n",
      "6\n",
      "7\n",
      "9\n",
      "2\n"
     ]
    }
   ],
   "source": [
    "a = [1,3,4,5,6,7,9,2]\n",
    "for b in a:\n",
    "    print(b)"
   ]
  },
  {
   "cell_type": "code",
   "execution_count": 52,
   "id": "26b0cfe5",
   "metadata": {},
   "outputs": [
    {
     "name": "stdout",
     "output_type": "stream",
     "text": [
      "0 1 1 2 3 5 8 13 21 34 "
     ]
    }
   ],
   "source": [
    "num1,num2= 0,1\n",
    "for a in range(10):\n",
    "    print(num1,end=' ')\n",
    "    result = num1 + num2\n",
    "    \n",
    "    num1 = num2\n",
    "    num2 = result"
   ]
  },
  {
   "cell_type": "code",
   "execution_count": 56,
   "id": "31d4b5a5",
   "metadata": {},
   "outputs": [
    {
     "name": "stdout",
     "output_type": "stream",
     "text": [
      "The factorial of  {5} is {120}\n"
     ]
    }
   ],
   "source": [
    "num = 5\n",
    "factorial = 1\n",
    "\n",
    "for i in range(1,num+1):\n",
    "    factorial = factorial * i\n",
    "print(f'The factorial of ',{num},'is',{factorial})"
   ]
  },
  {
   "cell_type": "code",
   "execution_count": null,
   "id": "517a4a0d",
   "metadata": {},
   "outputs": [],
   "source": []
  }
 ],
 "metadata": {
  "kernelspec": {
   "display_name": "Python 3",
   "language": "python",
   "name": "python3"
  },
  "language_info": {
   "codemirror_mode": {
    "name": "ipython",
    "version": 3
   },
   "file_extension": ".py",
   "mimetype": "text/x-python",
   "name": "python",
   "nbconvert_exporter": "python",
   "pygments_lexer": "ipython3",
   "version": "3.8.8"
  }
 },
 "nbformat": 4,
 "nbformat_minor": 5
}
