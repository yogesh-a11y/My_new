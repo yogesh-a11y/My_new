{
 "cells": [
  {
   "cell_type": "code",
   "execution_count": 4,
   "id": "894d318e",
   "metadata": {},
   "outputs": [],
   "source": [
    "def add(a=2,b=5):\n",
    "    c = a + b\n",
    "    return c"
   ]
  },
  {
   "cell_type": "code",
   "execution_count": 5,
   "id": "130e6912",
   "metadata": {},
   "outputs": [
    {
     "data": {
      "text/plain": [
       "7"
      ]
     },
     "execution_count": 5,
     "metadata": {},
     "output_type": "execute_result"
    }
   ],
   "source": [
    "add()"
   ]
  },
  {
   "cell_type": "code",
   "execution_count": 6,
   "id": "c309bb79",
   "metadata": {},
   "outputs": [],
   "source": [
    "def add(a,b):\n",
    "    c = a + b\n",
    "    return c"
   ]
  },
  {
   "cell_type": "code",
   "execution_count": 7,
   "id": "6255c4c9",
   "metadata": {},
   "outputs": [
    {
     "data": {
      "text/plain": [
       "11"
      ]
     },
     "execution_count": 7,
     "metadata": {},
     "output_type": "execute_result"
    }
   ],
   "source": [
    "add(5,6)"
   ]
  },
  {
   "cell_type": "code",
   "execution_count": 24,
   "id": "1a4100f5",
   "metadata": {},
   "outputs": [],
   "source": [
    "def greet(name='yogesh', msg='Good afternoon'):\n",
    "    return (name, msg)"
   ]
  },
  {
   "cell_type": "code",
   "execution_count": 27,
   "id": "8bc206bf",
   "metadata": {},
   "outputs": [
    {
     "data": {
      "text/plain": [
       "('yogesh', 'Good afternoon')"
      ]
     },
     "execution_count": 27,
     "metadata": {},
     "output_type": "execute_result"
    }
   ],
   "source": [
    "greet()"
   ]
  },
  {
   "cell_type": "code",
   "execution_count": 34,
   "id": "f495ba17",
   "metadata": {},
   "outputs": [],
   "source": [
    "def greet(name,msg):\n",
    "    return f'Hello, {name}{msg}'"
   ]
  },
  {
   "cell_type": "code",
   "execution_count": 35,
   "id": "decb0c07",
   "metadata": {},
   "outputs": [
    {
     "data": {
      "text/plain": [
       "'Hello, YogeshGood afternoon!'"
      ]
     },
     "execution_count": 35,
     "metadata": {},
     "output_type": "execute_result"
    }
   ],
   "source": [
    "greet(name = 'Yogesh',msg = 'Good afternoon!')"
   ]
  },
  {
   "cell_type": "code",
   "execution_count": 36,
   "id": "94fe8f96",
   "metadata": {},
   "outputs": [],
   "source": [
    "def greet(name='yogesh', msg='Good afternoon'):\n",
    "    return ('Hello',name, msg)"
   ]
  },
  {
   "cell_type": "code",
   "execution_count": 37,
   "id": "043f463c",
   "metadata": {},
   "outputs": [
    {
     "data": {
      "text/plain": [
       "('Hello', 'yogesh', 'Good afternoon')"
      ]
     },
     "execution_count": 37,
     "metadata": {},
     "output_type": "execute_result"
    }
   ],
   "source": [
    "greet()"
   ]
  },
  {
   "cell_type": "markdown",
   "id": "79ed7766",
   "metadata": {},
   "source": [
    "# Default and non-default argument"
   ]
  },
  {
   "cell_type": "code",
   "execution_count": 50,
   "id": "f5c4bdb7",
   "metadata": {},
   "outputs": [],
   "source": [
    "def greet(name , msg='Good afternoon'): #msg is a default argument\n",
    "    return f'Hello, {name} {msg}'"
   ]
  },
  {
   "cell_type": "code",
   "execution_count": 51,
   "id": "41c7a199",
   "metadata": {},
   "outputs": [
    {
     "data": {
      "text/plain": [
       "'Hello, Yogesh Good afternoon'"
      ]
     },
     "execution_count": 51,
     "metadata": {},
     "output_type": "execute_result"
    }
   ],
   "source": [
    "greet(name = 'Yogesh') #Hence msg is a default argument so that msg comes default"
   ]
  },
  {
   "cell_type": "code",
   "execution_count": 52,
   "id": "54bb6784",
   "metadata": {},
   "outputs": [
    {
     "data": {
      "text/plain": [
       "'Hello, Ram Good morning'"
      ]
     },
     "execution_count": 52,
     "metadata": {},
     "output_type": "execute_result"
    }
   ],
   "source": [
    "greet(name='Ram', msg = 'Good morning')# msg overwrites default argument value"
   ]
  },
  {
   "cell_type": "code",
   "execution_count": 53,
   "id": "bc8a3383",
   "metadata": {},
   "outputs": [
    {
     "ename": "SyntaxError",
     "evalue": "non-default argument follows default argument (<ipython-input-53-fbaa6a4417ec>, line 1)",
     "output_type": "error",
     "traceback": [
      "\u001b[1;36m  File \u001b[1;32m\"<ipython-input-53-fbaa6a4417ec>\"\u001b[1;36m, line \u001b[1;32m1\u001b[0m\n\u001b[1;33m    def greet(name='Ram',msg):\u001b[0m\n\u001b[1;37m              ^\u001b[0m\n\u001b[1;31mSyntaxError\u001b[0m\u001b[1;31m:\u001b[0m non-default argument follows default argument\n"
     ]
    }
   ],
   "source": [
    "def greet(name='Ram',msg): #Hence non-default argument doesnot follow default argument\n",
    "    return f'Hello, {name},{msg}'"
   ]
  },
  {
   "cell_type": "markdown",
   "id": "cf4790b7",
   "metadata": {},
   "source": [
    "# Functions can return multiple values\n"
   ]
  },
  {
   "cell_type": "code",
   "execution_count": 54,
   "id": "fecf2736",
   "metadata": {},
   "outputs": [],
   "source": [
    "def add_numbers(x,y):\n",
    "    return x+y, x-y, x*y, x/y"
   ]
  },
  {
   "cell_type": "code",
   "execution_count": 55,
   "id": "958ed7bf",
   "metadata": {},
   "outputs": [
    {
     "data": {
      "text/plain": [
       "(8, 4, 12, 3.0)"
      ]
     },
     "execution_count": 55,
     "metadata": {},
     "output_type": "execute_result"
    }
   ],
   "source": [
    "add_numbers(6,2)"
   ]
  },
  {
   "cell_type": "code",
   "execution_count": 57,
   "id": "560a826b",
   "metadata": {},
   "outputs": [],
   "source": [
    "addition, substraction, multiplication, division = add_numbers(6,2)#tuple unpacking"
   ]
  },
  {
   "cell_type": "code",
   "execution_count": 58,
   "id": "2e861f25",
   "metadata": {},
   "outputs": [
    {
     "data": {
      "text/plain": [
       "8"
      ]
     },
     "execution_count": 58,
     "metadata": {},
     "output_type": "execute_result"
    }
   ],
   "source": [
    "addition"
   ]
  },
  {
   "cell_type": "code",
   "execution_count": 59,
   "id": "2b9abc09",
   "metadata": {},
   "outputs": [
    {
     "data": {
      "text/plain": [
       "4"
      ]
     },
     "execution_count": 59,
     "metadata": {},
     "output_type": "execute_result"
    }
   ],
   "source": [
    "substraction"
   ]
  },
  {
   "cell_type": "code",
   "execution_count": 60,
   "id": "df214f66",
   "metadata": {},
   "outputs": [
    {
     "data": {
      "text/plain": [
       "12"
      ]
     },
     "execution_count": 60,
     "metadata": {},
     "output_type": "execute_result"
    }
   ],
   "source": [
    "multiplication"
   ]
  },
  {
   "cell_type": "markdown",
   "id": "3364451d",
   "metadata": {},
   "source": [
    "# Global and local"
   ]
  },
  {
   "cell_type": "code",
   "execution_count": 68,
   "id": "2b75118b",
   "metadata": {},
   "outputs": [],
   "source": [
    "x = 'Shyam '\n",
    "def viral():\n",
    "    \n",
    "    x='Ram Adhikari'\n",
    "    msg = 'best runner'\n",
    "    print(x, 'is', msg)"
   ]
  },
  {
   "cell_type": "code",
   "execution_count": 69,
   "id": "5b8a6222",
   "metadata": {},
   "outputs": [
    {
     "name": "stdout",
     "output_type": "stream",
     "text": [
      "Ram Adhikari is best runner\n"
     ]
    }
   ],
   "source": [
    "viral()"
   ]
  },
  {
   "cell_type": "code",
   "execution_count": 70,
   "id": "9f33ccb0",
   "metadata": {},
   "outputs": [
    {
     "data": {
      "text/plain": [
       "'Shyam '"
      ]
     },
     "execution_count": 70,
     "metadata": {},
     "output_type": "execute_result"
    }
   ],
   "source": [
    "x #Hence x is local variable or object"
   ]
  },
  {
   "cell_type": "code",
   "execution_count": 71,
   "id": "4eaf7f60",
   "metadata": {},
   "outputs": [],
   "source": [
    "x = 'Shyam '\n",
    "def viral():\n",
    "    global x\n",
    "    global msg\n",
    "    x='Ram Adhikari'\n",
    "    msg = 'best runner'\n",
    "    print(x, 'is', msg)"
   ]
  },
  {
   "cell_type": "code",
   "execution_count": 72,
   "id": "7f787504",
   "metadata": {},
   "outputs": [
    {
     "name": "stdout",
     "output_type": "stream",
     "text": [
      "Ram Adhikari is best runner\n"
     ]
    }
   ],
   "source": [
    "viral()"
   ]
  },
  {
   "cell_type": "code",
   "execution_count": 73,
   "id": "5d9450ee",
   "metadata": {},
   "outputs": [
    {
     "data": {
      "text/plain": [
       "'Ram Adhikari'"
      ]
     },
     "execution_count": 73,
     "metadata": {},
     "output_type": "execute_result"
    }
   ],
   "source": [
    "x #Here after execuation of function value of x inside function is global"
   ]
  },
  {
   "cell_type": "code",
   "execution_count": 84,
   "id": "a7af58f0",
   "metadata": {},
   "outputs": [],
   "source": [
    "#write a function to execute all letter to uppercase\n",
    "\n",
    "party = ['Masu','Pulau','Jerry','Cold drinks','Curry']\n",
    "\n",
    "def upper():\n",
    "    for items in party:\n",
    "        print(items.upper())"
   ]
  },
  {
   "cell_type": "code",
   "execution_count": 85,
   "id": "c4178069",
   "metadata": {},
   "outputs": [
    {
     "name": "stdout",
     "output_type": "stream",
     "text": [
      "MASU\n",
      "PULAU\n",
      "JERRY\n",
      "COLD DRINKS\n",
      "CURRY\n"
     ]
    }
   ],
   "source": [
    "upper()"
   ]
  },
  {
   "cell_type": "code",
   "execution_count": 86,
   "id": "59ec210e",
   "metadata": {},
   "outputs": [],
   "source": [
    "def upper(party):\n",
    "    return party.upper()"
   ]
  },
  {
   "cell_type": "code",
   "execution_count": 87,
   "id": "3ecee67b",
   "metadata": {},
   "outputs": [
    {
     "ename": "NameError",
     "evalue": "name 'uppercase' is not defined",
     "output_type": "error",
     "traceback": [
      "\u001b[1;31m---------------------------------------------------------------------------\u001b[0m",
      "\u001b[1;31mNameError\u001b[0m                                 Traceback (most recent call last)",
      "\u001b[1;32m<ipython-input-87-c0cab2053f60>\u001b[0m in \u001b[0;36m<module>\u001b[1;34m\u001b[0m\n\u001b[0;32m      1\u001b[0m \u001b[1;32mfor\u001b[0m \u001b[0mitems\u001b[0m \u001b[1;32min\u001b[0m \u001b[0mparty\u001b[0m\u001b[1;33m:\u001b[0m\u001b[1;33m\u001b[0m\u001b[1;33m\u001b[0m\u001b[0m\n\u001b[1;32m----> 2\u001b[1;33m     \u001b[0mprint\u001b[0m\u001b[1;33m(\u001b[0m\u001b[0muppercase\u001b[0m\u001b[1;33m(\u001b[0m\u001b[0mitems\u001b[0m\u001b[1;33m)\u001b[0m\u001b[1;33m)\u001b[0m\u001b[1;33m\u001b[0m\u001b[1;33m\u001b[0m\u001b[0m\n\u001b[0m",
      "\u001b[1;31mNameError\u001b[0m: name 'uppercase' is not defined"
     ]
    }
   ],
   "source": [
    "for items in party:\n",
    "    print(uppercase(items))"
   ]
  },
  {
   "cell_type": "code",
   "execution_count": 88,
   "id": "e56bdd62",
   "metadata": {},
   "outputs": [
    {
     "data": {
      "text/plain": [
       "['MASU', 'PULAU', 'JERRY', 'COLD DRINKS', 'CURRY']"
      ]
     },
     "execution_count": 88,
     "metadata": {},
     "output_type": "execute_result"
    }
   ],
   "source": [
    "[items.upper() for items in party]"
   ]
  },
  {
   "cell_type": "code",
   "execution_count": 108,
   "id": "90d2cdab",
   "metadata": {},
   "outputs": [],
   "source": [
    "# Function to check upper count and lower count in given input\n",
    "def check_case():\n",
    "    inp = input(\"Enter a input\")\n",
    "    upper_count = 0\n",
    "    lower_count = 0\n",
    "    for letter in inp:\n",
    "        if letter.isupper():\n",
    "            upper_count += 1\n",
    "        elif letter.islower():\n",
    "            lower_count += 1\n",
    "        else:\n",
    "            pass\n",
    "            \n",
    "            \n",
    "            \n",
    "    return upper_count, lower_count"
   ]
  },
  {
   "cell_type": "code",
   "execution_count": 110,
   "id": "ef122025",
   "metadata": {},
   "outputs": [
    {
     "name": "stdout",
     "output_type": "stream",
     "text": [
      "Enter a inputAerrOplaNe\n",
      "The upper count is 3, and lower count is 7\n"
     ]
    }
   ],
   "source": [
    "upper,lower =check_case()\n",
    "print(f'The upper count is {upper}, and lower count is {lower}')"
   ]
  },
  {
   "cell_type": "code",
   "execution_count": 105,
   "id": "0c1fb1c6",
   "metadata": {},
   "outputs": [],
   "source": [
    "def unique_element():\n",
    "    unique_element = []\n",
    "    a=list(input('Enter a list: '))\n",
    "    for items in a:\n",
    "        if items not in unique_element:\n",
    "            unique_element.append(items)\n",
    "        else:\n",
    "            pass\n",
    "    return unique_element\n",
    "            \n",
    "            \n",
    "        \n",
    "        "
   ]
  },
  {
   "cell_type": "code",
   "execution_count": 107,
   "id": "0b1cf71b",
   "metadata": {},
   "outputs": [
    {
     "name": "stdout",
     "output_type": "stream",
     "text": [
      "Enter a list: 1234567231\n"
     ]
    },
    {
     "data": {
      "text/plain": [
       "['1', '2', '3', '4', '5', '6', '7']"
      ]
     },
     "execution_count": 107,
     "metadata": {},
     "output_type": "execute_result"
    }
   ],
   "source": [
    "unique_element()"
   ]
  },
  {
   "cell_type": "code",
   "execution_count": null,
   "id": "da666af0",
   "metadata": {},
   "outputs": [],
   "source": []
  },
  {
   "cell_type": "code",
   "execution_count": 111,
   "id": "812d7ac1",
   "metadata": {},
   "outputs": [],
   "source": [
    "string = 'green-red-yellow-black-white'"
   ]
  },
  {
   "cell_type": "code",
   "execution_count": 112,
   "id": "52262646",
   "metadata": {},
   "outputs": [],
   "source": [
    "def sort_str(string):\n",
    "    words = string.split('-')\n",
    "    words.sort()\n",
    "    return '-'.join(words)"
   ]
  },
  {
   "cell_type": "code",
   "execution_count": 114,
   "id": "0e8d7c06",
   "metadata": {},
   "outputs": [
    {
     "data": {
      "text/plain": [
       "'black-green-red-white-yellow'"
      ]
     },
     "execution_count": 114,
     "metadata": {},
     "output_type": "execute_result"
    }
   ],
   "source": [
    "sort_str(string= string)"
   ]
  },
  {
   "cell_type": "code",
   "execution_count": null,
   "id": "a955682b",
   "metadata": {},
   "outputs": [],
   "source": []
  }
 ],
 "metadata": {
  "kernelspec": {
   "display_name": "Python 3",
   "language": "python",
   "name": "python3"
  },
  "language_info": {
   "codemirror_mode": {
    "name": "ipython",
    "version": 3
   },
   "file_extension": ".py",
   "mimetype": "text/x-python",
   "name": "python",
   "nbconvert_exporter": "python",
   "pygments_lexer": "ipython3",
   "version": "3.8.8"
  }
 },
 "nbformat": 4,
 "nbformat_minor": 5
}
