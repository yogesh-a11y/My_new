{
 "cells": [
  {
   "cell_type": "code",
   "execution_count": 11,
   "id": "09a28eb9",
   "metadata": {},
   "outputs": [],
   "source": [
    "num1 = 2.5\n",
    "num2 = 0.35\n",
    "\n",
    "num3 = num2\n",
    "num2 = num1\n",
    "num1 = num3"
   ]
  },
  {
   "cell_type": "code",
   "execution_count": 12,
   "id": "7e5cf992",
   "metadata": {},
   "outputs": [
    {
     "data": {
      "text/plain": [
       "0.35"
      ]
     },
     "execution_count": 12,
     "metadata": {},
     "output_type": "execute_result"
    }
   ],
   "source": [
    "num1"
   ]
  },
  {
   "cell_type": "code",
   "execution_count": 13,
   "id": "aff53c02",
   "metadata": {},
   "outputs": [
    {
     "data": {
      "text/plain": [
       "2.5"
      ]
     },
     "execution_count": 13,
     "metadata": {},
     "output_type": "execute_result"
    }
   ],
   "source": [
    "num2"
   ]
  },
  {
   "cell_type": "code",
   "execution_count": 34,
   "id": "758e7e28",
   "metadata": {},
   "outputs": [
    {
     "name": "stdout",
     "output_type": "stream",
     "text": [
      "In 42 minutes 46 seconds there are 2566 Seconds\n"
     ]
    }
   ],
   "source": [
    "#how many seconds are there in 42 minutes 46 second\n",
    "a = 60\n",
    "minutes = 42\n",
    "print('In 42 minutes 46 seconds there are',(minutes*a)+46,'Seconds')"
   ]
  },
  {
   "cell_type": "code",
   "execution_count": 35,
   "id": "4f436b4c",
   "metadata": {},
   "outputs": [
    {
     "name": "stdout",
     "output_type": "stream",
     "text": [
      "There are total 6.215040397762586\n"
     ]
    }
   ],
   "source": [
    "# how many miles in 10 km\n",
    "one_mile = 1.609\n",
    "one_km = 1/1.609\n",
    "\n",
    "print('There are total',10*one_km)"
   ]
  },
  {
   "cell_type": "code",
   "execution_count": 2,
   "id": "fea560fa",
   "metadata": {},
   "outputs": [],
   "source": [
    "for_km = 10\n",
    "for_mile = 10/1.609\n",
    "time_for_seconds = (42*60)+42\n",
    "time_for_minute = 42+(42/60)\n"
   ]
  },
  {
   "cell_type": "code",
   "execution_count": 3,
   "id": "2401a621",
   "metadata": {},
   "outputs": [
    {
     "name": "stdout",
     "output_type": "stream",
     "text": [
      "Average pace for mile per second is  0.0024258549561914852 m/s\n"
     ]
    }
   ],
   "source": [
    "print('Average pace for mile per second is ', (for_mile/time_for_seconds),'m/s')"
   ]
  },
  {
   "cell_type": "code",
   "execution_count": 4,
   "id": "d9d53259",
   "metadata": {},
   "outputs": [
    {
     "name": "stdout",
     "output_type": "stream",
     "text": [
      "Average pace for kilometer per second is 0.1455512973714891 km/s\n"
     ]
    }
   ],
   "source": [
    "print('Average pace for mile per minute is',(for_mile/time_for_minute),'km/s')"
   ]
  },
  {
   "cell_type": "code",
   "execution_count": 5,
   "id": "e2148b20",
   "metadata": {},
   "outputs": [
    {
     "name": "stdout",
     "output_type": "stream",
     "text": [
      "Volume of sphere is 523.8095238095237\n"
     ]
    }
   ],
   "source": [
    "r = 5\n",
    "pi = 22/7\n",
    "volume_of_sphere = (4/3)*pi*r**3\n",
    "\n",
    "print(\"Volume of sphere is\",volume_of_sphere)"
   ]
  },
  {
   "cell_type": "code",
   "execution_count": 6,
   "id": "57ff07fd",
   "metadata": {},
   "outputs": [
    {
     "name": "stdout",
     "output_type": "stream",
     "text": [
      "Enter a first number3\n",
      "Enter a second number4\n",
      "Total = 7\n"
     ]
    }
   ],
   "source": [
    "num1 = int(input(\"Enter a first number\"))\n",
    "num2 = int(input(\"Enter a second number\"))\n",
    "total = num1 + num2\n",
    "print(f'Total = {total}')"
   ]
  },
  {
   "cell_type": "code",
   "execution_count": 8,
   "id": "c420b6da",
   "metadata": {},
   "outputs": [
    {
     "name": "stdout",
     "output_type": "stream",
     "text": [
      "Enter a first number-1\n",
      "neg\n"
     ]
    }
   ],
   "source": [
    "num = int(input(\"Enter a first number\"))\n",
    "if num<0:\n",
    "    print(\"neg\")\n",
    "else:\n",
    "    print(\"positive\")"
   ]
  },
  {
   "cell_type": "code",
   "execution_count": 13,
   "id": "1752b7c1",
   "metadata": {},
   "outputs": [
    {
     "name": "stdout",
     "output_type": "stream",
     "text": [
      "Enter a first number5\n",
      "Number is divisible by 5\n"
     ]
    }
   ],
   "source": [
    "num = int(input(\"Enter a first number\"))\n",
    "if num%5==0:\n",
    "    print(\"Number is divisible by 5\")\n",
    "else:\n",
    "    print('Bye')"
   ]
  },
  {
   "cell_type": "code",
   "execution_count": 17,
   "id": "126c7f07",
   "metadata": {},
   "outputs": [
    {
     "name": "stdout",
     "output_type": "stream",
     "text": [
      "Enter a first number10\n",
      "The number\n"
     ]
    }
   ],
   "source": [
    "num = int(input(\"Enter a first number\"))\n",
    "if num==10:\n",
    "    print(\"The number\")\n",
    "else:\n",
    "    print(\"Not number\")"
   ]
  },
  {
   "cell_type": "code",
   "execution_count": 25,
   "id": "280d84c1",
   "metadata": {},
   "outputs": [
    {
     "name": "stdout",
     "output_type": "stream",
     "text": [
      "Enter a number16\n",
      "Last digit of number is divisible by 3\n"
     ]
    }
   ],
   "source": [
    "number = int(input(\"Enter a number\"))\n",
    "rem = number%10\n",
    "\n",
    "if rem%3==0:\n",
    "    print('Last digit of number is divisible by 3')\n",
    "else:\n",
    "    print('The number is not divisible by 3')\n"
   ]
  },
  {
   "cell_type": "code",
   "execution_count": null,
   "id": "3e8460ff",
   "metadata": {},
   "outputs": [],
   "source": []
  }
 ],
 "metadata": {
  "kernelspec": {
   "display_name": "Python 3",
   "language": "python",
   "name": "python3"
  },
  "language_info": {
   "codemirror_mode": {
    "name": "ipython",
    "version": 3
   },
   "file_extension": ".py",
   "mimetype": "text/x-python",
   "name": "python",
   "nbconvert_exporter": "python",
   "pygments_lexer": "ipython3",
   "version": "3.8.8"
  }
 },
 "nbformat": 4,
 "nbformat_minor": 5
}
