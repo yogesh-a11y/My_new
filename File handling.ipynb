{
 "cells": [
  {
   "cell_type": "markdown",
   "id": "889752ca",
   "metadata": {},
   "source": [
    "# File handling\n",
    "\n",
    "* open()\n",
    "* read()\n",
    "* write()\n",
    "* close()\n",
    "\n",
    "Modes of file handling:\n",
    "* read : `'r'`\n",
    "* write: `'w'`\n",
    "* append: `'a'`\n",
    "* create: `'x'`"
   ]
  },
  {
   "cell_type": "code",
   "execution_count": 2,
   "id": "397c19b0",
   "metadata": {},
   "outputs": [
    {
     "ename": "FileNotFoundError",
     "evalue": "[Errno 2] No such file or directory: 'nofile.txt'",
     "output_type": "error",
     "traceback": [
      "\u001b[1;31m---------------------------------------------------------------------------\u001b[0m",
      "\u001b[1;31mFileNotFoundError\u001b[0m                         Traceback (most recent call last)",
      "\u001b[1;32m<ipython-input-2-69c783982167>\u001b[0m in \u001b[0;36m<module>\u001b[1;34m\u001b[0m\n\u001b[1;32m----> 1\u001b[1;33m \u001b[0mfile\u001b[0m \u001b[1;33m=\u001b[0m \u001b[0mopen\u001b[0m\u001b[1;33m(\u001b[0m\u001b[1;34m'nofile.txt'\u001b[0m\u001b[1;33m,\u001b[0m\u001b[1;34m'r'\u001b[0m\u001b[1;33m)\u001b[0m\u001b[1;33m\u001b[0m\u001b[1;33m\u001b[0m\u001b[0m\n\u001b[0m\u001b[0;32m      2\u001b[0m \u001b[0mprint\u001b[0m\u001b[1;33m(\u001b[0m\u001b[1;34m'file read'\u001b[0m\u001b[1;33m)\u001b[0m\u001b[1;33m\u001b[0m\u001b[1;33m\u001b[0m\u001b[0m\n",
      "\u001b[1;31mFileNotFoundError\u001b[0m: [Errno 2] No such file or directory: 'nofile.txt'"
     ]
    }
   ],
   "source": [
    "file = open('nofile.txt','r')\n",
    "print('file read')"
   ]
  },
  {
   "cell_type": "markdown",
   "id": "63df9d62",
   "metadata": {},
   "source": [
    "# Exception handling using try... except..."
   ]
  },
  {
   "cell_type": "code",
   "execution_count": 4,
   "id": "ea574d08",
   "metadata": {},
   "outputs": [
    {
     "name": "stdout",
     "output_type": "stream",
     "text": [
      "[Errno 2] No such file or directory: 'nofile.txt'\n",
      "file read\n"
     ]
    }
   ],
   "source": [
    "try:\n",
    "    file = open('nofile.txt','r')\n",
    "    \n",
    "except FileNotFoundError as e:# catches only FileNotFoundError\n",
    "    print(e)\n",
    "print('file read')"
   ]
  },
  {
   "cell_type": "code",
   "execution_count": 5,
   "id": "6c4a22ee",
   "metadata": {},
   "outputs": [
    {
     "name": "stdout",
     "output_type": "stream",
     "text": [
      "[Errno 2] No such file or directory: 'nofile.txt'\n",
      "file read\n"
     ]
    }
   ],
   "source": [
    "try:\n",
    "    file = open('nofile.txt','r')\n",
    "    \n",
    "except Exception as e: # catches every exception that might occur\n",
    "    print(e)\n",
    "print('file read')"
   ]
  },
  {
   "cell_type": "code",
   "execution_count": 6,
   "id": "95bbc597",
   "metadata": {},
   "outputs": [
    {
     "name": "stdout",
     "output_type": "stream",
     "text": [
      "file read\n"
     ]
    }
   ],
   "source": [
    "try:\n",
    "    file = open('nofile.txt','r')\n",
    "    \n",
    "except: # catches every exception that might occur\n",
    "    pass\n",
    "print('file read')"
   ]
  },
  {
   "cell_type": "code",
   "execution_count": 7,
   "id": "bc0e1509",
   "metadata": {},
   "outputs": [
    {
     "data": {
      "text/plain": [
       "True"
      ]
     },
     "execution_count": 7,
     "metadata": {},
     "output_type": "execute_result"
    }
   ],
   "source": [
    "import os\n",
    "os.path.exists('msg.txt')"
   ]
  },
  {
   "cell_type": "code",
   "execution_count": 11,
   "id": "26523f7a",
   "metadata": {},
   "outputs": [],
   "source": [
    "file = open('msg.txt','r')\n",
    "text = file.read()\n",
    "file.close()"
   ]
  },
  {
   "cell_type": "code",
   "execution_count": 12,
   "id": "9d388e16",
   "metadata": {},
   "outputs": [
    {
     "name": "stdout",
     "output_type": "stream",
     "text": [
      "ashgklh aoahgklanv visfghiavciv vfigyibvkn vousahfoiah iudhigfhakuln hskbla viajhg vbiaosguha naihigoan biausgvav ipasuvnpa vasuhoshnnv avisauhvou vjn aihvpa abv a vaishvia iah v aihiu fi hia fosghop hgis hvnos oahopsi o o oao aopaopshoph goah gopuashog hapo hop\n"
     ]
    }
   ],
   "source": [
    "print(text)"
   ]
  },
  {
   "cell_type": "code",
   "execution_count": 21,
   "id": "22d333d7",
   "metadata": {},
   "outputs": [
    {
     "name": "stdout",
     "output_type": "stream",
     "text": [
      "ashgklh aoahgklanv visfghiavciv vfigyibvkn vousahfoiah iudhigfhakuln hskbla viajhg vbiaosguha naihigoan biausgvav ipasuvnpa vasuhoshnnv avisauhvou vjn aihvpa abv a vaishvia iah v aihiu fi hia fosghop hgis hvnos oahopsi o o oao aopaopshoph goah gopuashog hapo hop\n"
     ]
    }
   ],
   "source": [
    "with open('msg.txt','r') as file: #preferred way\n",
    "    text = file.read() #read all \n",
    "print(text)"
   ]
  },
  {
   "cell_type": "code",
   "execution_count": 25,
   "id": "b51400aa",
   "metadata": {},
   "outputs": [
    {
     "name": "stdout",
     "output_type": "stream",
     "text": [
      "ashgklh aoahgklanv visfghiavciv vfigyibvkn vousahfoiah iudhigfhakuln. hskbla viajhg vbiaosguha naihigoan biausgvav ipasuvnpa vasuhoshnnv.\n",
      "\n"
     ]
    }
   ],
   "source": [
    "with open('msg.txt','r') as file:\n",
    "    text= file.readline() # reads only first paragraph\n",
    "print(text)"
   ]
  },
  {
   "cell_type": "code",
   "execution_count": 26,
   "id": "94276342",
   "metadata": {},
   "outputs": [
    {
     "name": "stdout",
     "output_type": "stream",
     "text": [
      "['ashgklh aoahgklanv visfghiavciv vfigyibvkn vousahfoiah iudhigfhakuln. hskbla viajhg vbiaosguha naihigoan biausgvav ipasuvnpa vasuhoshnnv.\\n', 'avisauhvou vjn aihvpa abv a vaishvia iah v aihiu fi hia fosghop hgis hvnos oahopsi o o oao aopaopshoph goah gopuashog hapo hop']\n"
     ]
    }
   ],
   "source": [
    "with open('msg.txt','r') as file:\n",
    "    text= file.readlines() # reads all paragraph in list\n",
    "print(text)"
   ]
  },
  {
   "cell_type": "code",
   "execution_count": 27,
   "id": "826e301b",
   "metadata": {},
   "outputs": [
    {
     "data": {
      "text/plain": [
       "2"
      ]
     },
     "execution_count": 27,
     "metadata": {},
     "output_type": "execute_result"
    }
   ],
   "source": [
    "len(text)"
   ]
  },
  {
   "cell_type": "code",
   "execution_count": null,
   "id": "125983bd",
   "metadata": {},
   "outputs": [],
   "source": []
  }
 ],
 "metadata": {
  "kernelspec": {
   "display_name": "Python 3",
   "language": "python",
   "name": "python3"
  },
  "language_info": {
   "codemirror_mode": {
    "name": "ipython",
    "version": 3
   },
   "file_extension": ".py",
   "mimetype": "text/x-python",
   "name": "python",
   "nbconvert_exporter": "python",
   "pygments_lexer": "ipython3",
   "version": "3.8.8"
  }
 },
 "nbformat": 4,
 "nbformat_minor": 5
}
