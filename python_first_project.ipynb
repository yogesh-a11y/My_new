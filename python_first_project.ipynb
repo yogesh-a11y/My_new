quize = input("Do you want to play a quize? ")

if quize.lower() == 'yes':
    print(' Let\'s play :)' )
else:
    break


answer = input('What does RAM stands for? ')
score = 0
if answer.lower() == 'random access memory':
    print("Correct answer!")
    score +=1
else:
    print('Incorrect answer!')
 
answer = input('What does ROM stands for? ')   
if answer.lower() == 'read only memory':
    print("Correct answer!")
    score += 1
else:
    print('Incorrect answer!')
        
 
answer = input('What does CPU stands for? ')   
if answer.lower() == 'central processing unit':
    print("Correct answer!")
    score += 1
else:
    print('Incorrect answer!')
    
answer = input('What does GPU stands for? ')
if answer.lower() == 'graphics processing unit':
    print("Correct answer!")
    score += 1

else:
    print('Incorrect answer!')
 
answer = input('What does PC stands for? ')    
if answer.lower() == 'personal computer':
    print("Correct answer!")
    score += 1

else:
    print('Incorrect answer!')

print(f'You got score {score} ')
