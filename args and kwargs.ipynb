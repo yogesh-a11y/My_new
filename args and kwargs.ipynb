{
 "cells": [
  {
   "cell_type": "markdown",
   "id": "cc45d994",
   "metadata": {},
   "source": [
    "# *args"
   ]
  },
  {
   "cell_type": "code",
   "execution_count": 1,
   "id": "ddaf2354",
   "metadata": {},
   "outputs": [],
   "source": [
    "def total(*args):\n",
    "    print(args)\n",
    "    print(type(args))"
   ]
  },
  {
   "cell_type": "code",
   "execution_count": 6,
   "id": "22e36f85",
   "metadata": {},
   "outputs": [
    {
     "name": "stdout",
     "output_type": "stream",
     "text": [
      "()\n",
      "<class 'tuple'>\n"
     ]
    }
   ],
   "source": [
    "total()"
   ]
  },
  {
   "cell_type": "code",
   "execution_count": 2,
   "id": "71efa644",
   "metadata": {},
   "outputs": [
    {
     "name": "stdout",
     "output_type": "stream",
     "text": [
      "(1, 2, 3, 54)\n",
      "<class 'tuple'>\n"
     ]
    }
   ],
   "source": [
    "total(1,2,3,54)"
   ]
  },
  {
   "cell_type": "code",
   "execution_count": 3,
   "id": "561db714",
   "metadata": {},
   "outputs": [],
   "source": [
    "def find_total(*args):\n",
    "    total = 0\n",
    "    for item in args:\n",
    "        total = total +item\n",
    "    return total"
   ]
  },
  {
   "cell_type": "code",
   "execution_count": 4,
   "id": "3c437498",
   "metadata": {},
   "outputs": [
    {
     "data": {
      "text/plain": [
       "15"
      ]
     },
     "execution_count": 4,
     "metadata": {},
     "output_type": "execute_result"
    }
   ],
   "source": [
    "find_total(1,2,3,4,5) # takes variable length input"
   ]
  },
  {
   "cell_type": "code",
   "execution_count": 5,
   "id": "29b68819",
   "metadata": {},
   "outputs": [
    {
     "data": {
      "text/plain": [
       "10"
      ]
     },
     "execution_count": 5,
     "metadata": {},
     "output_type": "execute_result"
    }
   ],
   "source": [
    "find_total(2,3,5)"
   ]
  },
  {
   "cell_type": "markdown",
   "id": "434c9a91",
   "metadata": {},
   "source": [
    "# **kwargs"
   ]
  },
  {
   "cell_type": "code",
   "execution_count": 7,
   "id": "9a77cff2",
   "metadata": {},
   "outputs": [],
   "source": [
    "def about(**kwargs):\n",
    "    print(kwargs)\n",
    "    print(type(kwargs))"
   ]
  },
  {
   "cell_type": "code",
   "execution_count": 8,
   "id": "dd7af400",
   "metadata": {},
   "outputs": [
    {
     "name": "stdout",
     "output_type": "stream",
     "text": [
      "{}\n",
      "<class 'dict'>\n"
     ]
    }
   ],
   "source": [
    "about()"
   ]
  },
  {
   "cell_type": "code",
   "execution_count": 9,
   "id": "95f07e55",
   "metadata": {},
   "outputs": [
    {
     "name": "stdout",
     "output_type": "stream",
     "text": [
      "{'name': 'Yogesh', 'age': '22', 'study': 'ML'}\n",
      "<class 'dict'>\n"
     ]
    }
   ],
   "source": [
    "about(name = 'Yogesh', age= '22', study = 'ML')# takes variable lenght input"
   ]
  },
  {
   "cell_type": "markdown",
   "id": "fded81e9",
   "metadata": {},
   "source": [
    "# * Args vs **kwargs\n",
    "* provides variable length input to the function\n",
    "* Makes function flexible\n",
    "* \\*args : tuple type, tuple operation\n",
    "* \\**kwargs : dict type, dictionary operation"
   ]
  },
  {
   "cell_type": "code",
   "execution_count": 6,
   "id": "e2338d44",
   "metadata": {},
   "outputs": [],
   "source": [
    "def fun(*actors):\n",
    "    return actors"
   ]
  },
  {
   "cell_type": "code",
   "execution_count": 7,
   "id": "dc187926",
   "metadata": {},
   "outputs": [
    {
     "data": {
      "text/plain": [
       "('Ram', 'Shyam')"
      ]
     },
     "execution_count": 7,
     "metadata": {},
     "output_type": "execute_result"
    }
   ],
   "source": [
    "fun('Ram','Shyam')"
   ]
  },
  {
   "cell_type": "code",
   "execution_count": 13,
   "id": "6d341001",
   "metadata": {},
   "outputs": [],
   "source": [
    "def adder(*num):\n",
    "    total = 0\n",
    "    for a in num:\n",
    "        total = total + a\n",
    "    print(total)"
   ]
  },
  {
   "cell_type": "code",
   "execution_count": 14,
   "id": "ffb35e07",
   "metadata": {},
   "outputs": [
    {
     "name": "stdout",
     "output_type": "stream",
     "text": [
      "5\n"
     ]
    }
   ],
   "source": [
    "adder(2,3)"
   ]
  },
  {
   "cell_type": "code",
   "execution_count": 15,
   "id": "7bd644bb",
   "metadata": {},
   "outputs": [
    {
     "name": "stdout",
     "output_type": "stream",
     "text": [
      "17\n"
     ]
    }
   ],
   "source": [
    "adder(5,4,6,2)"
   ]
  },
  {
   "cell_type": "code",
   "execution_count": 25,
   "id": "5937ec0a",
   "metadata": {},
   "outputs": [],
   "source": [
    "def han(**describe):\n",
    "    for key,value in describe.items():\n",
    "        print(f'{key} is {value}')\n",
    "        "
   ]
  },
  {
   "cell_type": "code",
   "execution_count": 26,
   "id": "2efd97f9",
   "metadata": {},
   "outputs": [
    {
     "name": "stdout",
     "output_type": "stream",
     "text": [
      "name is Yogesh\n",
      "lastname is Basnet\n",
      "age is 22\n"
     ]
    }
   ],
   "source": [
    "han(name='Yogesh',lastname='Basnet',age = 22)"
   ]
  },
  {
   "cell_type": "code",
   "execution_count": null,
   "id": "00715148",
   "metadata": {},
   "outputs": [],
   "source": []
  }
 ],
 "metadata": {
  "kernelspec": {
   "display_name": "Python 3",
   "language": "python",
   "name": "python3"
  },
  "language_info": {
   "codemirror_mode": {
    "name": "ipython",
    "version": 3
   },
   "file_extension": ".py",
   "mimetype": "text/x-python",
   "name": "python",
   "nbconvert_exporter": "python",
   "pygments_lexer": "ipython3",
   "version": "3.8.8"
  }
 },
 "nbformat": 4,
 "nbformat_minor": 5
}
