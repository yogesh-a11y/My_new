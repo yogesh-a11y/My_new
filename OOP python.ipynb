{
 "cells": [
  {
   "cell_type": "markdown",
   "id": "e7ed2740",
   "metadata": {},
   "source": [
    "# Class and Object"
   ]
  },
  {
   "cell_type": "code",
   "execution_count": 1,
   "id": "969eae22",
   "metadata": {},
   "outputs": [],
   "source": [
    "#creating empty class\n",
    "class Mammal:\n",
    "    pass"
   ]
  },
  {
   "cell_type": "code",
   "execution_count": 2,
   "id": "80c175ff",
   "metadata": {},
   "outputs": [],
   "source": [
    "human = Mammal()"
   ]
  },
  {
   "cell_type": "code",
   "execution_count": 4,
   "id": "470f6ffc",
   "metadata": {},
   "outputs": [
    {
     "name": "stdout",
     "output_type": "stream",
     "text": [
      "<class '__main__.Mammal'>\n"
     ]
    }
   ],
   "source": [
    "print(type(human))"
   ]
  },
  {
   "cell_type": "code",
   "execution_count": 5,
   "id": "de6b9e7c",
   "metadata": {},
   "outputs": [
    {
     "name": "stdout",
     "output_type": "stream",
     "text": [
      "<class '__main__.Mammal'>\n"
     ]
    }
   ],
   "source": [
    "if __name__ == '__main__':\n",
    "    human = Mammal()\n",
    "    print(type(human))"
   ]
  },
  {
   "cell_type": "code",
   "execution_count": 6,
   "id": "3aaf4793",
   "metadata": {},
   "outputs": [
    {
     "data": {
      "text/plain": [
       "'__main__'"
      ]
     },
     "execution_count": 6,
     "metadata": {},
     "output_type": "execute_result"
    }
   ],
   "source": [
    "__name__"
   ]
  },
  {
   "cell_type": "markdown",
   "id": "8506b5f2",
   "metadata": {},
   "source": [
    "* class is a blueprint of creating object\n",
    "* object is instance of a class"
   ]
  },
  {
   "cell_type": "markdown",
   "id": "d1a0ac5f",
   "metadata": {},
   "source": [
    "# Class attribute"
   ]
  },
  {
   "cell_type": "code",
   "execution_count": 11,
   "id": "34fe416e",
   "metadata": {},
   "outputs": [],
   "source": [
    "class Mammal:\n",
    "    has_hair = True #class attribute is same for all objects"
   ]
  },
  {
   "cell_type": "code",
   "execution_count": 12,
   "id": "ac1589e3",
   "metadata": {},
   "outputs": [
    {
     "data": {
      "text/plain": [
       "True"
      ]
     },
     "execution_count": 12,
     "metadata": {},
     "output_type": "execute_result"
    }
   ],
   "source": [
    "human = Mammal()\n",
    "human.has_hair    #class attribute is same for all objects"
   ]
  },
  {
   "cell_type": "code",
   "execution_count": 13,
   "id": "c12e8401",
   "metadata": {},
   "outputs": [
    {
     "data": {
      "text/plain": [
       "2737470405696"
      ]
     },
     "execution_count": 13,
     "metadata": {},
     "output_type": "execute_result"
    }
   ],
   "source": [
    "id(human)"
   ]
  },
  {
   "cell_type": "code",
   "execution_count": 14,
   "id": "09284c91",
   "metadata": {},
   "outputs": [
    {
     "data": {
      "text/plain": [
       "2737459033088"
      ]
     },
     "execution_count": 14,
     "metadata": {},
     "output_type": "execute_result"
    }
   ],
   "source": [
    "id(Mammal)"
   ]
  },
  {
   "cell_type": "code",
   "execution_count": 15,
   "id": "ce23948c",
   "metadata": {},
   "outputs": [
    {
     "data": {
      "text/plain": [
       "True"
      ]
     },
     "execution_count": 15,
     "metadata": {},
     "output_type": "execute_result"
    }
   ],
   "source": [
    "cow = Mammal()\n",
    "cow.has_hair     #class attribute is same for all objects"
   ]
  },
  {
   "cell_type": "markdown",
   "id": "4db769f4",
   "metadata": {},
   "source": [
    "# Object or  instance attribute -- different for all objects"
   ]
  },
  {
   "cell_type": "code",
   "execution_count": 16,
   "id": "1a8708ea",
   "metadata": {},
   "outputs": [],
   "source": [
    "class Mammal:\n",
    "    def __init__(self,no_of_legs):\n",
    "        self.no_of_legs = no_of_legs"
   ]
  },
  {
   "cell_type": "code",
   "execution_count": 17,
   "id": "7d2acc81",
   "metadata": {},
   "outputs": [],
   "source": [
    "human = Mammal(no_of_legs = 2)"
   ]
  },
  {
   "cell_type": "code",
   "execution_count": 18,
   "id": "433fde51",
   "metadata": {},
   "outputs": [
    {
     "data": {
      "text/plain": [
       "2"
      ]
     },
     "execution_count": 18,
     "metadata": {},
     "output_type": "execute_result"
    }
   ],
   "source": [
    "human.no_of_legs"
   ]
  },
  {
   "cell_type": "code",
   "execution_count": 19,
   "id": "862849b0",
   "metadata": {},
   "outputs": [
    {
     "data": {
      "text/plain": [
       "4"
      ]
     },
     "execution_count": 19,
     "metadata": {},
     "output_type": "execute_result"
    }
   ],
   "source": [
    "cow = Mammal(4)\n",
    "cow.no_of_legs"
   ]
  },
  {
   "cell_type": "code",
   "execution_count": 20,
   "id": "af4b3f86",
   "metadata": {},
   "outputs": [],
   "source": [
    "# __init__ is a object attribute initilizer"
   ]
  },
  {
   "cell_type": "markdown",
   "id": "9cc45907",
   "metadata": {},
   "source": [
    "# What is slef parameter? -- The self keyword is used to represent an instance(object) of the given class."
   ]
  },
  {
   "cell_type": "code",
   "execution_count": 24,
   "id": "5b4c054c",
   "metadata": {},
   "outputs": [],
   "source": [
    "class Mammal:\n",
    "    def __init__(self,no_of_legs):\n",
    "        print(type(self))         #self is an object\n",
    "        self.legs = no_of_legs"
   ]
  },
  {
   "cell_type": "code",
   "execution_count": 25,
   "id": "573598b0",
   "metadata": {},
   "outputs": [
    {
     "name": "stdout",
     "output_type": "stream",
     "text": [
      "<class '__main__.Mammal'>\n"
     ]
    }
   ],
   "source": [
    "human = Mammal(2)"
   ]
  },
  {
   "cell_type": "code",
   "execution_count": 26,
   "id": "a26f9e5c",
   "metadata": {},
   "outputs": [
    {
     "data": {
      "text/plain": [
       "2"
      ]
     },
     "execution_count": 26,
     "metadata": {},
     "output_type": "execute_result"
    }
   ],
   "source": [
    "human.legs"
   ]
  },
  {
   "cell_type": "code",
   "execution_count": 27,
   "id": "99016270",
   "metadata": {},
   "outputs": [],
   "source": [
    "# __init__ object attribute initilizer\n",
    "# __init__ is not a constructor # self is an object -- already created\n",
    "# __new__ is aconstructor\n",
    "# constructor is used to create an object"
   ]
  },
  {
   "cell_type": "markdown",
   "id": "2ffc204f",
   "metadata": {},
   "source": [
    "# User defined method in class"
   ]
  },
  {
   "cell_type": "code",
   "execution_count": 32,
   "id": "ed6e7f0b",
   "metadata": {},
   "outputs": [],
   "source": [
    "class Person:\n",
    "    def __init__(self,name , age):\n",
    "        self.name = name\n",
    "        self.age = age\n",
    "    \n",
    "    def find_age(self):\n",
    "        return self.age\n",
    "    \n",
    "    def greet(self,msg = 'Good Morning'):\n",
    "        return f'Hi {self.name}, {msg}'\n",
    "        "
   ]
  },
  {
   "cell_type": "code",
   "execution_count": 33,
   "id": "eaabe107",
   "metadata": {},
   "outputs": [],
   "source": [
    "p1 = Person('Yogesh', age=22)"
   ]
  },
  {
   "cell_type": "code",
   "execution_count": 34,
   "id": "e182bc8c",
   "metadata": {},
   "outputs": [
    {
     "data": {
      "text/plain": [
       "22"
      ]
     },
     "execution_count": 34,
     "metadata": {},
     "output_type": "execute_result"
    }
   ],
   "source": [
    "p1.find_age()"
   ]
  },
  {
   "cell_type": "code",
   "execution_count": 35,
   "id": "0629c302",
   "metadata": {},
   "outputs": [
    {
     "data": {
      "text/plain": [
       "'Hi Yogesh, Good Morning'"
      ]
     },
     "execution_count": 35,
     "metadata": {},
     "output_type": "execute_result"
    }
   ],
   "source": [
    "p1.greet()"
   ]
  },
  {
   "cell_type": "code",
   "execution_count": 40,
   "id": "60a7f4f2",
   "metadata": {},
   "outputs": [],
   "source": [
    "class Sphere:\n",
    "    def __init__(self, pi, radius):\n",
    "        self.pi = pi\n",
    "        self.radius = radius        # __init__ doesnot take return\n",
    "        \n",
    "    def for_pi(self):\n",
    "        return self.pi     # \n",
    "    \n",
    "    def for_radius(self):\n",
    "        return self.radius\n",
    "    \n",
    "    def volume(self):\n",
    "        return 4/3 * self.pi* self.radius **3"
   ]
  },
  {
   "cell_type": "code",
   "execution_count": 41,
   "id": "a000c088",
   "metadata": {},
   "outputs": [],
   "source": [
    "volume_of_sphere = Sphere(3.14,5)"
   ]
  },
  {
   "cell_type": "code",
   "execution_count": 42,
   "id": "3ff7d321",
   "metadata": {},
   "outputs": [
    {
     "data": {
      "text/plain": [
       "523.3333333333334"
      ]
     },
     "execution_count": 42,
     "metadata": {},
     "output_type": "execute_result"
    }
   ],
   "source": [
    "volume_of_sphere.volume()"
   ]
  },
  {
   "cell_type": "code",
   "execution_count": 43,
   "id": "2e2fa9ee",
   "metadata": {},
   "outputs": [
    {
     "ename": "SyntaxError",
     "evalue": "invalid syntax (<ipython-input-43-763e546aab50>, line 4)",
     "output_type": "error",
     "traceback": [
      "\u001b[1;36m  File \u001b[1;32m\"<ipython-input-43-763e546aab50>\"\u001b[1;36m, line \u001b[1;32m4\u001b[0m\n\u001b[1;33m    def find_volume(self,)\u001b[0m\n\u001b[1;37m                          ^\u001b[0m\n\u001b[1;31mSyntaxError\u001b[0m\u001b[1;31m:\u001b[0m invalid syntax\n"
     ]
    }
   ],
   "source": [
    "class Spheree:\n",
    "    def __init__(self, pi, radius):\n",
    "        self.radius = radius\n",
    "    def find_volume(self,)"
   ]
  },
  {
   "cell_type": "code",
   "execution_count": 62,
   "id": "e2dc12cf",
   "metadata": {},
   "outputs": [],
   "source": [
    "class Rectangle:\n",
    "    def __init__(self,length,breadth):\n",
    "        self.length = length\n",
    "        self.breadth = breadth\n",
    "        \n",
    "    def area(self):\n",
    "        return self.length * self.breadth\n",
    "    def find_perimeter(self):\n",
    "        return 2*(self.length + self.breadth)\n",
    "    "
   ]
  },
  {
   "cell_type": "code",
   "execution_count": 64,
   "id": "ad341ba6",
   "metadata": {},
   "outputs": [],
   "source": [
    "rectan = Rectangle(4,5)"
   ]
  },
  {
   "cell_type": "code",
   "execution_count": 65,
   "id": "a95b9432",
   "metadata": {},
   "outputs": [
    {
     "data": {
      "text/plain": [
       "20"
      ]
     },
     "execution_count": 65,
     "metadata": {},
     "output_type": "execute_result"
    }
   ],
   "source": [
    "rectan.area()"
   ]
  },
  {
   "cell_type": "code",
   "execution_count": 69,
   "id": "5be4fe37",
   "metadata": {},
   "outputs": [
    {
     "data": {
      "text/plain": [
       "18"
      ]
     },
     "execution_count": 69,
     "metadata": {},
     "output_type": "execute_result"
    }
   ],
   "source": [
    "rectan.find_perimeter()"
   ]
  },
  {
   "cell_type": "code",
   "execution_count": 6,
   "id": "38a26679",
   "metadata": {},
   "outputs": [],
   "source": [
    "class Person:\n",
    "    def __init__(self,name , age):\n",
    "        self.name = name\n",
    "        self.age = age\n",
    "    \n",
    "    def find_age(self):\n",
    "        return f'{self.name} is my name and {self.age} is my age'\n",
    "    \n",
    "    def greet(self,msg = 'Good Morning'):\n",
    "        return f'Hi {self.name}, {msg}'"
   ]
  },
  {
   "cell_type": "code",
   "execution_count": 7,
   "id": "1315b567",
   "metadata": {},
   "outputs": [],
   "source": [
    "p = Person('Ram',43)"
   ]
  },
  {
   "cell_type": "code",
   "execution_count": 8,
   "id": "018660da",
   "metadata": {},
   "outputs": [
    {
     "data": {
      "text/plain": [
       "'Ram is my name and 43 is my age'"
      ]
     },
     "execution_count": 8,
     "metadata": {},
     "output_type": "execute_result"
    }
   ],
   "source": [
    "p.find_age()"
   ]
  },
  {
   "cell_type": "code",
   "execution_count": null,
   "id": "2d7ab597",
   "metadata": {},
   "outputs": [],
   "source": []
  }
 ],
 "metadata": {
  "kernelspec": {
   "display_name": "Python 3",
   "language": "python",
   "name": "python3"
  },
  "language_info": {
   "codemirror_mode": {
    "name": "ipython",
    "version": 3
   },
   "file_extension": ".py",
   "mimetype": "text/x-python",
   "name": "python",
   "nbconvert_exporter": "python",
   "pygments_lexer": "ipython3",
   "version": "3.8.8"
  }
 },
 "nbformat": 4,
 "nbformat_minor": 5
}
