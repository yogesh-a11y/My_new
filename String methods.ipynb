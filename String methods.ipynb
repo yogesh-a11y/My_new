{
 "cells": [
  {
   "cell_type": "code",
   "execution_count": 1,
   "id": "da46d027",
   "metadata": {},
   "outputs": [
    {
     "data": {
      "text/plain": [
       "'string'"
      ]
     },
     "execution_count": 1,
     "metadata": {},
     "output_type": "execute_result"
    }
   ],
   "source": [
    "a = 'String'\n",
    "\n",
    "a.casefold()"
   ]
  },
  {
   "cell_type": "code",
   "execution_count": 2,
   "id": "5b61353e",
   "metadata": {},
   "outputs": [
    {
     "data": {
      "text/plain": [
       "'wolf'"
      ]
     },
     "execution_count": 2,
     "metadata": {},
     "output_type": "execute_result"
    }
   ],
   "source": [
    "b = 'Wolf'\n",
    "b.lower()"
   ]
  },
  {
   "cell_type": "code",
   "execution_count": 3,
   "id": "9bd3171d",
   "metadata": {},
   "outputs": [
    {
     "data": {
      "text/plain": [
       "'WOLF'"
      ]
     },
     "execution_count": 3,
     "metadata": {},
     "output_type": "execute_result"
    }
   ],
   "source": [
    "b.upper()"
   ]
  },
  {
   "cell_type": "code",
   "execution_count": 4,
   "id": "5804eb77",
   "metadata": {},
   "outputs": [
    {
     "data": {
      "text/plain": [
       "'Wolf'"
      ]
     },
     "execution_count": 4,
     "metadata": {},
     "output_type": "execute_result"
    }
   ],
   "source": [
    "b.title()"
   ]
  },
  {
   "cell_type": "code",
   "execution_count": 5,
   "id": "8b7f7e9c",
   "metadata": {},
   "outputs": [
    {
     "data": {
      "text/plain": [
       "2"
      ]
     },
     "execution_count": 5,
     "metadata": {},
     "output_type": "execute_result"
    }
   ],
   "source": [
    "c = 'aeroplane'\n",
    "c.count('e')"
   ]
  },
  {
   "cell_type": "code",
   "execution_count": 10,
   "id": "5af67b4d",
   "metadata": {},
   "outputs": [
    {
     "data": {
      "text/plain": [
       "'     aeroplane      '"
      ]
     },
     "execution_count": 10,
     "metadata": {},
     "output_type": "execute_result"
    }
   ],
   "source": [
    "c.center(20,' ')"
   ]
  },
  {
   "cell_type": "code",
   "execution_count": 11,
   "id": "6607ac07",
   "metadata": {},
   "outputs": [
    {
     "data": {
      "text/plain": [
       "'aeroplane'"
      ]
     },
     "execution_count": 11,
     "metadata": {},
     "output_type": "execute_result"
    }
   ],
   "source": [
    "c"
   ]
  },
  {
   "cell_type": "code",
   "execution_count": 13,
   "id": "c7679650",
   "metadata": {},
   "outputs": [
    {
     "data": {
      "text/plain": [
       "b'coma'"
      ]
     },
     "execution_count": 13,
     "metadata": {},
     "output_type": "execute_result"
    }
   ],
   "source": [
    "c='coma'\n",
    "c.encode()"
   ]
  },
  {
   "cell_type": "code",
   "execution_count": 14,
   "id": "9081c6dc",
   "metadata": {},
   "outputs": [
    {
     "data": {
      "text/plain": [
       "'coma'"
      ]
     },
     "execution_count": 14,
     "metadata": {},
     "output_type": "execute_result"
    }
   ],
   "source": [
    "c"
   ]
  },
  {
   "cell_type": "code",
   "execution_count": 15,
   "id": "da629df0",
   "metadata": {},
   "outputs": [
    {
     "data": {
      "text/plain": [
       "1"
      ]
     },
     "execution_count": 15,
     "metadata": {},
     "output_type": "execute_result"
    }
   ],
   "source": [
    "c.find('o')"
   ]
  },
  {
   "cell_type": "code",
   "execution_count": 16,
   "id": "490b0faa",
   "metadata": {},
   "outputs": [
    {
     "data": {
      "text/plain": [
       "3"
      ]
     },
     "execution_count": 16,
     "metadata": {},
     "output_type": "execute_result"
    }
   ],
   "source": [
    "c = 'apple'\n",
    "c.find('l')"
   ]
  },
  {
   "cell_type": "code",
   "execution_count": 17,
   "id": "75d0b05c",
   "metadata": {},
   "outputs": [
    {
     "data": {
      "text/plain": [
       "'I like Mango'"
      ]
     },
     "execution_count": 17,
     "metadata": {},
     "output_type": "execute_result"
    }
   ],
   "source": [
    "d = 'I like bananas'\n",
    "d.replace('bananas','Mango')"
   ]
  },
  {
   "cell_type": "code",
   "execution_count": 18,
   "id": "e632087a",
   "metadata": {},
   "outputs": [
    {
     "data": {
      "text/plain": [
       "'I Like Bananas'"
      ]
     },
     "execution_count": 18,
     "metadata": {},
     "output_type": "execute_result"
    }
   ],
   "source": [
    "d.title()"
   ]
  },
  {
   "cell_type": "code",
   "execution_count": 19,
   "id": "fcd16f57",
   "metadata": {},
   "outputs": [
    {
     "data": {
      "text/plain": [
       "'I like bananas'"
      ]
     },
     "execution_count": 19,
     "metadata": {},
     "output_type": "execute_result"
    }
   ],
   "source": [
    "d.capitalize()"
   ]
  },
  {
   "cell_type": "code",
   "execution_count": 20,
   "id": "475f8624",
   "metadata": {},
   "outputs": [
    {
     "data": {
      "text/plain": [
       "'I like bananas'"
      ]
     },
     "execution_count": 20,
     "metadata": {},
     "output_type": "execute_result"
    }
   ],
   "source": [
    "d"
   ]
  },
  {
   "cell_type": "code",
   "execution_count": 28,
   "id": "0aee5ca7",
   "metadata": {},
   "outputs": [
    {
     "data": {
      "text/plain": [
       "['I', 'like', 'bananas']"
      ]
     },
     "execution_count": 28,
     "metadata": {},
     "output_type": "execute_result"
    }
   ],
   "source": [
    "d.split(' ')"
   ]
  },
  {
   "cell_type": "code",
   "execution_count": 32,
   "id": "c324ade3",
   "metadata": {},
   "outputs": [],
   "source": [
    "e = 'I like Mango'"
   ]
  },
  {
   "cell_type": "code",
   "execution_count": 33,
   "id": "b7c4ebf4",
   "metadata": {},
   "outputs": [
    {
     "data": {
      "text/plain": [
       "'I   l i k e   M a n g o'"
      ]
     },
     "execution_count": 33,
     "metadata": {},
     "output_type": "execute_result"
    }
   ],
   "source": [
    "' '.join(e)"
   ]
  },
  {
   "cell_type": "code",
   "execution_count": 35,
   "id": "44326af7",
   "metadata": {},
   "outputs": [],
   "source": [
    "name = 'y!gesh'"
   ]
  },
  {
   "cell_type": "code",
   "execution_count": 38,
   "id": "7b9c2152",
   "metadata": {},
   "outputs": [
    {
     "ename": "TypeError",
     "evalue": "'str' object does not support item assignment",
     "output_type": "error",
     "traceback": [
      "\u001b[1;31m---------------------------------------------------------------------------\u001b[0m",
      "\u001b[1;31mTypeError\u001b[0m                                 Traceback (most recent call last)",
      "\u001b[1;32m<ipython-input-38-f1b2d82a204c>\u001b[0m in \u001b[0;36m<module>\u001b[1;34m\u001b[0m\n\u001b[1;32m----> 1\u001b[1;33m \u001b[0mname\u001b[0m\u001b[1;33m[\u001b[0m\u001b[1;36m1\u001b[0m\u001b[1;33m]\u001b[0m\u001b[1;33m=\u001b[0m\u001b[1;34m'o'\u001b[0m\u001b[1;33m\u001b[0m\u001b[1;33m\u001b[0m\u001b[0m\n\u001b[0m",
      "\u001b[1;31mTypeError\u001b[0m: 'str' object does not support item assignment"
     ]
    }
   ],
   "source": [
    "name[1]='o'#since string is immutable and cannot update in same memory location "
   ]
  },
  {
   "cell_type": "code",
   "execution_count": 36,
   "id": "ef5d3aa8",
   "metadata": {},
   "outputs": [],
   "source": [
    "name = name.replace('!','o')# created in seperate memory location"
   ]
  },
  {
   "cell_type": "code",
   "execution_count": 37,
   "id": "f493746e",
   "metadata": {},
   "outputs": [
    {
     "data": {
      "text/plain": [
       "'yogesh'"
      ]
     },
     "execution_count": 37,
     "metadata": {},
     "output_type": "execute_result"
    }
   ],
   "source": [
    "name"
   ]
  },
  {
   "cell_type": "code",
   "execution_count": null,
   "id": "dd278697",
   "metadata": {},
   "outputs": [],
   "source": []
  },
  {
   "cell_type": "code",
   "execution_count": 39,
   "id": "683faa6c",
   "metadata": {},
   "outputs": [],
   "source": [
    "greet = 'Happy New Year'\n"
   ]
  },
  {
   "cell_type": "code",
   "execution_count": 40,
   "id": "33d7472b",
   "metadata": {},
   "outputs": [
    {
     "data": {
      "text/plain": [
       "['Happy', 'New', 'Year']"
      ]
     },
     "execution_count": 40,
     "metadata": {},
     "output_type": "execute_result"
    }
   ],
   "source": [
    "greet.split(' ')"
   ]
  },
  {
   "cell_type": "code",
   "execution_count": 41,
   "id": "cf002ec8",
   "metadata": {},
   "outputs": [
    {
     "data": {
      "text/plain": [
       "['Happy', 'New', 'Year']"
      ]
     },
     "execution_count": 41,
     "metadata": {},
     "output_type": "execute_result"
    }
   ],
   "source": [
    "words = greet.split(' ')\n",
    "words"
   ]
  },
  {
   "cell_type": "code",
   "execution_count": 42,
   "id": "c7784ea6",
   "metadata": {},
   "outputs": [
    {
     "data": {
      "text/plain": [
       "'Happy New Year'"
      ]
     },
     "execution_count": 42,
     "metadata": {},
     "output_type": "execute_result"
    }
   ],
   "source": [
    "' '.join(words)"
   ]
  },
  {
   "cell_type": "code",
   "execution_count": 43,
   "id": "e559bf8a",
   "metadata": {},
   "outputs": [
    {
     "data": {
      "text/plain": [
       "'Happy-New-Year'"
      ]
     },
     "execution_count": 43,
     "metadata": {},
     "output_type": "execute_result"
    }
   ],
   "source": [
    "'-'.join(words)"
   ]
  },
  {
   "cell_type": "code",
   "execution_count": null,
   "id": "b61b9436",
   "metadata": {},
   "outputs": [],
   "source": []
  }
 ],
 "metadata": {
  "kernelspec": {
   "display_name": "Python 3",
   "language": "python",
   "name": "python3"
  },
  "language_info": {
   "codemirror_mode": {
    "name": "ipython",
    "version": 3
   },
   "file_extension": ".py",
   "mimetype": "text/x-python",
   "name": "python",
   "nbconvert_exporter": "python",
   "pygments_lexer": "ipython3",
   "version": "3.8.8"
  }
 },
 "nbformat": 4,
 "nbformat_minor": 5
}
