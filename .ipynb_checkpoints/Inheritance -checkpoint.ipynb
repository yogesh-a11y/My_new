{
 "cells": [
  {
   "cell_type": "markdown",
   "id": "fcc215b7",
   "metadata": {},
   "source": [
    "# Single inheritance"
   ]
  },
  {
   "cell_type": "code",
   "execution_count": 4,
   "id": "38c905b1",
   "metadata": {},
   "outputs": [],
   "source": [
    "class Computer:\n",
    "    def __init__(self,model_name, chip):\n",
    "        self.model_name = model_name\n",
    "        self.chip = chip\n",
    "\n",
    "class Mobile:\n",
    "    def __init__(self):\n",
    "        self.has_flash = True"
   ]
  },
  {
   "cell_type": "code",
   "execution_count": 5,
   "id": "6cc3a3e3",
   "metadata": {},
   "outputs": [],
   "source": [
    "mobile = Mobile()"
   ]
  },
  {
   "cell_type": "code",
   "execution_count": 6,
   "id": "970067b4",
   "metadata": {},
   "outputs": [
    {
     "data": {
      "text/plain": [
       "True"
      ]
     },
     "execution_count": 6,
     "metadata": {},
     "output_type": "execute_result"
    }
   ],
   "source": [
    "mobile.has_flash"
   ]
  },
  {
   "cell_type": "markdown",
   "id": "fcbe682d",
   "metadata": {},
   "source": [
    "# Single inheritance"
   ]
  },
  {
   "cell_type": "code",
   "execution_count": 7,
   "id": "da2daf3a",
   "metadata": {},
   "outputs": [],
   "source": [
    "class Computer:\n",
    "    def __init__(self,model_name, chip):\n",
    "        self.model_name = model_name\n",
    "        self.chip = chip\n",
    "\n",
    "class Mobile(Computer):\n",
    "    def __init__(self,model_name, chip):\n",
    "        self.has_flash = True\n",
    "        super().__init__(model_name, chip)"
   ]
  },
  {
   "cell_type": "code",
   "execution_count": 8,
   "id": "7be00ce5",
   "metadata": {},
   "outputs": [],
   "source": [
    "mobile = Mobile(model_name = 'iphone', chip = 'A15 Bionic')"
   ]
  },
  {
   "cell_type": "code",
   "execution_count": 9,
   "id": "3545b385",
   "metadata": {},
   "outputs": [
    {
     "data": {
      "text/plain": [
       "'A15 Bionic'"
      ]
     },
     "execution_count": 9,
     "metadata": {},
     "output_type": "execute_result"
    }
   ],
   "source": [
    "mobile.chip #parent property"
   ]
  },
  {
   "cell_type": "code",
   "execution_count": 10,
   "id": "16866da1",
   "metadata": {},
   "outputs": [
    {
     "data": {
      "text/plain": [
       "'iphone'"
      ]
     },
     "execution_count": 10,
     "metadata": {},
     "output_type": "execute_result"
    }
   ],
   "source": [
    "mobile.model_name #parent property"
   ]
  },
  {
   "cell_type": "code",
   "execution_count": 11,
   "id": "b21b186b",
   "metadata": {},
   "outputs": [
    {
     "data": {
      "text/plain": [
       "True"
      ]
     },
     "execution_count": 11,
     "metadata": {},
     "output_type": "execute_result"
    }
   ],
   "source": [
    "mobile.has_flash"
   ]
  },
  {
   "cell_type": "code",
   "execution_count": 12,
   "id": "c3b00641",
   "metadata": {},
   "outputs": [],
   "source": [
    "class Computer:\n",
    "    def __init__(self,model_name, chip):\n",
    "        self.model_name = model_name\n",
    "        self.chip = chip\n",
    "        \n",
    "    def show_model(self):\n",
    "        return self.model_name\n",
    "\n",
    "class Mobile(Computer):\n",
    "    def __init__(self,model_name, chip):\n",
    "        self.has_flash = True\n",
    "        super().__init__(model_name, chip)"
   ]
  },
  {
   "cell_type": "code",
   "execution_count": 13,
   "id": "a32945ac",
   "metadata": {},
   "outputs": [],
   "source": [
    "mobile = Mobile('iphonee','a12')"
   ]
  },
  {
   "cell_type": "code",
   "execution_count": 14,
   "id": "4b01ff9b",
   "metadata": {},
   "outputs": [
    {
     "data": {
      "text/plain": [
       "'iphonee'"
      ]
     },
     "execution_count": 14,
     "metadata": {},
     "output_type": "execute_result"
    }
   ],
   "source": [
    "mobile.show_model()"
   ]
  },
  {
   "cell_type": "markdown",
   "id": "563236f3",
   "metadata": {},
   "source": [
    "# Multiple inheritance"
   ]
  },
  {
   "cell_type": "code",
   "execution_count": 21,
   "id": "ccc9b04e",
   "metadata": {},
   "outputs": [],
   "source": [
    "class Father:\n",
    "    def __init__(self,f_name):\n",
    "        self.f_name = f_name\n",
    "        self.warrior = True\n",
    "\n",
    "class Mother:\n",
    "    def __init__(self,m_name):\n",
    "        self.m_name = m_name\n",
    "\n",
    "class Child(Father,Mother):\n",
    "    def __init__(self,name, f_name,m_name):\n",
    "        self.name = name\n",
    "        Father.__init__(self,f_name)\n",
    "        Mother.__init__(self,m_name)\n",
    "        \n",
    "        "
   ]
  },
  {
   "cell_type": "code",
   "execution_count": 22,
   "id": "c05dda49",
   "metadata": {},
   "outputs": [],
   "source": [
    "kta = Child(name = 'luv', f_name = 'Ram', m_name = 'Sita')"
   ]
  },
  {
   "cell_type": "code",
   "execution_count": 23,
   "id": "71a2f14a",
   "metadata": {},
   "outputs": [
    {
     "data": {
      "text/plain": [
       "'Ram'"
      ]
     },
     "execution_count": 23,
     "metadata": {},
     "output_type": "execute_result"
    }
   ],
   "source": [
    "kta.f_name"
   ]
  },
  {
   "cell_type": "code",
   "execution_count": 24,
   "id": "de2df3ee",
   "metadata": {},
   "outputs": [
    {
     "data": {
      "text/plain": [
       "'Sita'"
      ]
     },
     "execution_count": 24,
     "metadata": {},
     "output_type": "execute_result"
    }
   ],
   "source": [
    "kta.m_name"
   ]
  },
  {
   "cell_type": "code",
   "execution_count": 25,
   "id": "c2199b07",
   "metadata": {},
   "outputs": [
    {
     "data": {
      "text/plain": [
       "'luv'"
      ]
     },
     "execution_count": 25,
     "metadata": {},
     "output_type": "execute_result"
    }
   ],
   "source": [
    "kta.name"
   ]
  },
  {
   "cell_type": "code",
   "execution_count": 26,
   "id": "5e16d9ca",
   "metadata": {},
   "outputs": [
    {
     "data": {
      "text/plain": [
       "True"
      ]
     },
     "execution_count": 26,
     "metadata": {},
     "output_type": "execute_result"
    }
   ],
   "source": [
    "kta.warrior"
   ]
  },
  {
   "cell_type": "markdown",
   "id": "a33887ed",
   "metadata": {},
   "source": [
    "# Multilevel inheritance"
   ]
  },
  {
   "cell_type": "code",
   "execution_count": 27,
   "id": "90d9a776",
   "metadata": {},
   "outputs": [],
   "source": [
    "class GrandFather:\n",
    "    def __init__(self,g_name):\n",
    "        self.g_name = g_name\n",
    "\n",
    "class Father(GrandFather):\n",
    "    def __init__(self,f_name,g_name):\n",
    "        self.f_name = f_name\n",
    "        GrandFather.__init__(self,g_name)\n",
    "        \n",
    "class Kid(Father):\n",
    "    def __init__(self,k_name,f_name,g_name):\n",
    "        self.k_name = k_name\n",
    "        Father.__init__(self,f_name,g_name)"
   ]
  },
  {
   "cell_type": "code",
   "execution_count": 29,
   "id": "2d163a84",
   "metadata": {},
   "outputs": [],
   "source": [
    "Kid= Kid(k_name='Lov-kush',f_name = 'Ram', g_name = 'Dasarath')"
   ]
  },
  {
   "cell_type": "code",
   "execution_count": 31,
   "id": "7f1d575b",
   "metadata": {},
   "outputs": [
    {
     "data": {
      "text/plain": [
       "'Ram'"
      ]
     },
     "execution_count": 31,
     "metadata": {},
     "output_type": "execute_result"
    }
   ],
   "source": [
    "Kid.f_name"
   ]
  },
  {
   "cell_type": "code",
   "execution_count": 32,
   "id": "8e724aea",
   "metadata": {},
   "outputs": [
    {
     "data": {
      "text/plain": [
       "'Dasarath'"
      ]
     },
     "execution_count": 32,
     "metadata": {},
     "output_type": "execute_result"
    }
   ],
   "source": [
    "Kid.g_name"
   ]
  },
  {
   "cell_type": "code",
   "execution_count": 33,
   "id": "be2e2aef",
   "metadata": {},
   "outputs": [
    {
     "data": {
      "text/plain": [
       "'Lov-kush'"
      ]
     },
     "execution_count": 33,
     "metadata": {},
     "output_type": "execute_result"
    }
   ],
   "source": [
    "Kid.k_name"
   ]
  },
  {
   "cell_type": "code",
   "execution_count": null,
   "id": "1af4fb14",
   "metadata": {},
   "outputs": [],
   "source": []
  }
 ],
 "metadata": {
  "kernelspec": {
   "display_name": "Python 3",
   "language": "python",
   "name": "python3"
  },
  "language_info": {
   "codemirror_mode": {
    "name": "ipython",
    "version": 3
   },
   "file_extension": ".py",
   "mimetype": "text/x-python",
   "name": "python",
   "nbconvert_exporter": "python",
   "pygments_lexer": "ipython3",
   "version": "3.8.8"
  }
 },
 "nbformat": 4,
 "nbformat_minor": 5
}
