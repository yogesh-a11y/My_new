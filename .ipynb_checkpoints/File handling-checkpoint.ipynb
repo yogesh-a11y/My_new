{
 "cells": [
  {
   "cell_type": "markdown",
   "id": "077b4056",
   "metadata": {},
   "source": [
    "# File handling\n",
    "\n",
    "* open()\n",
    "* read()\n",
    "* write()\n",
    "* close()\n",
    "\n",
    "Modes of file handling:\n",
    "* read : `'r'`\n",
    "* write: `'w'`\n",
    "* append: `'a'`\n",
    "* create: `'x'`"
   ]
  },
  {
   "cell_type": "code",
   "execution_count": 2,
   "id": "9801c980",
   "metadata": {},
   "outputs": [
    {
     "ename": "FileNotFoundError",
     "evalue": "[Errno 2] No such file or directory: 'nofile.txt'",
     "output_type": "error",
     "traceback": [
      "\u001b[1;31m---------------------------------------------------------------------------\u001b[0m",
      "\u001b[1;31mFileNotFoundError\u001b[0m                         Traceback (most recent call last)",
      "\u001b[1;32m<ipython-input-2-69c783982167>\u001b[0m in \u001b[0;36m<module>\u001b[1;34m\u001b[0m\n\u001b[1;32m----> 1\u001b[1;33m \u001b[0mfile\u001b[0m \u001b[1;33m=\u001b[0m \u001b[0mopen\u001b[0m\u001b[1;33m(\u001b[0m\u001b[1;34m'nofile.txt'\u001b[0m\u001b[1;33m,\u001b[0m\u001b[1;34m'r'\u001b[0m\u001b[1;33m)\u001b[0m\u001b[1;33m\u001b[0m\u001b[1;33m\u001b[0m\u001b[0m\n\u001b[0m\u001b[0;32m      2\u001b[0m \u001b[0mprint\u001b[0m\u001b[1;33m(\u001b[0m\u001b[1;34m'file read'\u001b[0m\u001b[1;33m)\u001b[0m\u001b[1;33m\u001b[0m\u001b[1;33m\u001b[0m\u001b[0m\n",
      "\u001b[1;31mFileNotFoundError\u001b[0m: [Errno 2] No such file or directory: 'nofile.txt'"
     ]
    }
   ],
   "source": [
    "file = open('nofile.txt','r')\n",
    "print('file read')"
   ]
  },
  {
   "cell_type": "markdown",
   "id": "3adaff4a",
   "metadata": {},
   "source": [
    "# Exception handling using try... except..."
   ]
  },
  {
   "cell_type": "code",
   "execution_count": 4,
   "id": "3749329d",
   "metadata": {},
   "outputs": [
    {
     "name": "stdout",
     "output_type": "stream",
     "text": [
      "[Errno 2] No such file or directory: 'nofile.txt'\n",
      "file read\n"
     ]
    }
   ],
   "source": [
    "try:\n",
    "    file = open('nofile.txt','r')\n",
    "    \n",
    "except FileNotFoundError as e:# catches only FileNotFoundError\n",
    "    print(e)\n",
    "print('file read')"
   ]
  },
  {
   "cell_type": "code",
   "execution_count": 5,
   "id": "248c3856",
   "metadata": {},
   "outputs": [
    {
     "name": "stdout",
     "output_type": "stream",
     "text": [
      "[Errno 2] No such file or directory: 'nofile.txt'\n",
      "file read\n"
     ]
    }
   ],
   "source": [
    "try:\n",
    "    file = open('nofile.txt','r')\n",
    "    \n",
    "except Exception as e: # catches every exception that might occur\n",
    "    print(e)\n",
    "print('file read')"
   ]
  },
  {
   "cell_type": "code",
   "execution_count": 6,
   "id": "72d9402f",
   "metadata": {},
   "outputs": [
    {
     "name": "stdout",
     "output_type": "stream",
     "text": [
      "file read\n"
     ]
    }
   ],
   "source": [
    "try:\n",
    "    file = open('nofile.txt','r')\n",
    "    \n",
    "except: # catches every exception that might occur\n",
    "    pass\n",
    "print('file read')"
   ]
  },
  {
   "cell_type": "code",
   "execution_count": 7,
   "id": "eccdc5aa",
   "metadata": {},
   "outputs": [
    {
     "data": {
      "text/plain": [
       "True"
      ]
     },
     "execution_count": 7,
     "metadata": {},
     "output_type": "execute_result"
    }
   ],
   "source": [
    "import os\n",
    "os.path.exists('msg.txt')"
   ]
  },
  {
   "cell_type": "code",
   "execution_count": 11,
   "id": "6be9cc39",
   "metadata": {},
   "outputs": [],
   "source": [
    "file = open('msg.txt','r')\n",
    "text = file.read()\n",
    "file.close()"
   ]
  },
  {
   "cell_type": "code",
   "execution_count": 12,
   "id": "3624c316",
   "metadata": {},
   "outputs": [
    {
     "name": "stdout",
     "output_type": "stream",
     "text": [
      "ashgklh aoahgklanv visfghiavciv vfigyibvkn vousahfoiah iudhigfhakuln hskbla viajhg vbiaosguha naihigoan biausgvav ipasuvnpa vasuhoshnnv avisauhvou vjn aihvpa abv a vaishvia iah v aihiu fi hia fosghop hgis hvnos oahopsi o o oao aopaopshoph goah gopuashog hapo hop\n"
     ]
    }
   ],
   "source": [
    "print(text)"
   ]
  },
  {
   "cell_type": "code",
   "execution_count": 21,
   "id": "de8309c8",
   "metadata": {},
   "outputs": [
    {
     "name": "stdout",
     "output_type": "stream",
     "text": [
      "ashgklh aoahgklanv visfghiavciv vfigyibvkn vousahfoiah iudhigfhakuln hskbla viajhg vbiaosguha naihigoan biausgvav ipasuvnpa vasuhoshnnv avisauhvou vjn aihvpa abv a vaishvia iah v aihiu fi hia fosghop hgis hvnos oahopsi o o oao aopaopshoph goah gopuashog hapo hop\n"
     ]
    }
   ],
   "source": [
    "with open('msg.txt','r') as file: #preferred way\n",
    "    text = file.read()\n",
    "print(text)"
   ]
  },
  {
   "cell_type": "code",
   "execution_count": 25,
   "id": "e91f78bc",
   "metadata": {},
   "outputs": [
    {
     "name": "stdout",
     "output_type": "stream",
     "text": [
      "ashgklh aoahgklanv visfghiavciv vfigyibvkn vousahfoiah iudhigfhakuln. hskbla viajhg vbiaosguha naihigoan biausgvav ipasuvnpa vasuhoshnnv.\n",
      "\n"
     ]
    }
   ],
   "source": [
    "with open('msg.txt','r') as file:\n",
    "    text= file.readline() # reads only first paragraph\n",
    "print(text)"
   ]
  },
  {
   "cell_type": "code",
   "execution_count": 26,
   "id": "bbf6ed8f",
   "metadata": {},
   "outputs": [
    {
     "name": "stdout",
     "output_type": "stream",
     "text": [
      "['ashgklh aoahgklanv visfghiavciv vfigyibvkn vousahfoiah iudhigfhakuln. hskbla viajhg vbiaosguha naihigoan biausgvav ipasuvnpa vasuhoshnnv.\\n', 'avisauhvou vjn aihvpa abv a vaishvia iah v aihiu fi hia fosghop hgis hvnos oahopsi o o oao aopaopshoph goah gopuashog hapo hop']\n"
     ]
    }
   ],
   "source": [
    "with open('msg.txt','r') as file:\n",
    "    text= file.readlines() # reads all paragraph\n",
    "print(text)"
   ]
  },
  {
   "cell_type": "code",
   "execution_count": 27,
   "id": "95e9ac6b",
   "metadata": {},
   "outputs": [
    {
     "data": {
      "text/plain": [
       "2"
      ]
     },
     "execution_count": 27,
     "metadata": {},
     "output_type": "execute_result"
    }
   ],
   "source": [
    "len(text)"
   ]
  },
  {
   "cell_type": "code",
   "execution_count": null,
   "id": "452a0e9c",
   "metadata": {},
   "outputs": [],
   "source": []
  }
 ],
 "metadata": {
  "kernelspec": {
   "display_name": "Python 3",
   "language": "python",
   "name": "python3"
  },
  "language_info": {
   "codemirror_mode": {
    "name": "ipython",
    "version": 3
   },
   "file_extension": ".py",
   "mimetype": "text/x-python",
   "name": "python",
   "nbconvert_exporter": "python",
   "pygments_lexer": "ipython3",
   "version": "3.8.8"
  }
 },
 "nbformat": 4,
 "nbformat_minor": 5
}
