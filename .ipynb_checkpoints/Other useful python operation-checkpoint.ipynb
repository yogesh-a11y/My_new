{
 "cells": [
  {
   "cell_type": "markdown",
   "id": "84a7365c",
   "metadata": {},
   "source": [
    "# lambda function / Anonymous function\n",
    "```python\n",
    " lambda arguments : Expression\n",
    "\n",
    "```\n",
    "* used with map() and filter()"
   ]
  },
  {
   "cell_type": "code",
   "execution_count": 1,
   "id": "f7374e6f",
   "metadata": {},
   "outputs": [
    {
     "data": {
      "text/plain": [
       "[1, 4, 9, 16, 25, 36, 49, 64, 81]"
      ]
     },
     "execution_count": 1,
     "metadata": {},
     "output_type": "execute_result"
    }
   ],
   "source": [
    "data = range(1,10)\n",
    "sq = []\n",
    "\n",
    "for index in data:\n",
    "    sq.append(index ** 2)\n",
    "sq\n"
   ]
  },
  {
   "cell_type": "code",
   "execution_count": 2,
   "id": "99a19c51",
   "metadata": {},
   "outputs": [
    {
     "data": {
      "text/plain": [
       "[1, 4, 9, 16, 25, 36, 49, 64, 81]"
      ]
     },
     "execution_count": 2,
     "metadata": {},
     "output_type": "execute_result"
    }
   ],
   "source": [
    "[index**2 for index in range(1,10)]"
   ]
  },
  {
   "cell_type": "code",
   "execution_count": 4,
   "id": "e3601e5f",
   "metadata": {},
   "outputs": [
    {
     "data": {
      "text/plain": [
       "[1, 4, 9, 16, 25, 36, 49, 64, 81]"
      ]
     },
     "execution_count": 4,
     "metadata": {},
     "output_type": "execute_result"
    }
   ],
   "source": [
    "list(map(lambda x: x**2, range(1,10))) # x is argument"
   ]
  },
  {
   "cell_type": "code",
   "execution_count": 7,
   "id": "f671574a",
   "metadata": {},
   "outputs": [
    {
     "data": {
      "text/plain": [
       "[3375, 4096, 4913, 5832, 6859, 8000]"
      ]
     },
     "execution_count": 7,
     "metadata": {},
     "output_type": "execute_result"
    }
   ],
   "source": [
    "list(map(lambda x: x ** 3, range(15,21)))"
   ]
  },
  {
   "cell_type": "code",
   "execution_count": 9,
   "id": "42f4e38d",
   "metadata": {},
   "outputs": [
    {
     "data": {
      "text/plain": [
       "[46, 48, 50, 52]"
      ]
     },
     "execution_count": 9,
     "metadata": {},
     "output_type": "execute_result"
    }
   ],
   "source": [
    "list(filter(lambda x: x%2 == 0, range(45,54)))"
   ]
  },
  {
   "cell_type": "code",
   "execution_count": 10,
   "id": "d9e560ba",
   "metadata": {},
   "outputs": [
    {
     "data": {
      "text/plain": [
       "[31, 33, 35, 37, 39]"
      ]
     },
     "execution_count": 10,
     "metadata": {},
     "output_type": "execute_result"
    }
   ],
   "source": [
    "list(filter(lambda x: x%2 == 1, range(31,41)))"
   ]
  },
  {
   "cell_type": "markdown",
   "id": "f0d85512",
   "metadata": {},
   "source": [
    "# random number generation"
   ]
  },
  {
   "cell_type": "code",
   "execution_count": 13,
   "id": "834946f0",
   "metadata": {},
   "outputs": [],
   "source": [
    "import random as rn"
   ]
  },
  {
   "cell_type": "code",
   "execution_count": 14,
   "id": "ee108e19",
   "metadata": {},
   "outputs": [
    {
     "data": {
      "text/plain": [
       "3"
      ]
     },
     "execution_count": 14,
     "metadata": {},
     "output_type": "execute_result"
    }
   ],
   "source": [
    "random.randint(1,9) #generate random integer between 1(include) to 9(include)"
   ]
  },
  {
   "cell_type": "raw",
   "id": "d532e619",
   "metadata": {},
   "source": [
    "r"
   ]
  }
 ],
 "metadata": {
  "kernelspec": {
   "display_name": "Python 3",
   "language": "python",
   "name": "python3"
  },
  "language_info": {
   "codemirror_mode": {
    "name": "ipython",
    "version": 3
   },
   "file_extension": ".py",
   "mimetype": "text/x-python",
   "name": "python",
   "nbconvert_exporter": "python",
   "pygments_lexer": "ipython3",
   "version": "3.8.8"
  }
 },
 "nbformat": 4,
 "nbformat_minor": 5
}
