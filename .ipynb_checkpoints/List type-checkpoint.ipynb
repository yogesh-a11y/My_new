{
 "cells": [
  {
   "cell_type": "code",
   "execution_count": 1,
   "id": "f4091819",
   "metadata": {},
   "outputs": [],
   "source": [
    "list1 = []"
   ]
  },
  {
   "cell_type": "code",
   "execution_count": 2,
   "id": "bd084dd1",
   "metadata": {},
   "outputs": [],
   "source": [
    "list2 = list()"
   ]
  },
  {
   "cell_type": "code",
   "execution_count": 3,
   "id": "03f01113",
   "metadata": {},
   "outputs": [
    {
     "data": {
      "text/plain": [
       "list"
      ]
     },
     "execution_count": 3,
     "metadata": {},
     "output_type": "execute_result"
    }
   ],
   "source": [
    "type(list1)"
   ]
  },
  {
   "cell_type": "code",
   "execution_count": 4,
   "id": "55c01c63",
   "metadata": {},
   "outputs": [
    {
     "data": {
      "text/plain": [
       "list"
      ]
     },
     "execution_count": 4,
     "metadata": {},
     "output_type": "execute_result"
    }
   ],
   "source": [
    "type(list2)"
   ]
  },
  {
   "cell_type": "markdown",
   "id": "3e1d286d",
   "metadata": {},
   "source": [
    "# Creating list"
   ]
  },
  {
   "cell_type": "code",
   "execution_count": 5,
   "id": "e1372bc3",
   "metadata": {},
   "outputs": [],
   "source": [
    "party_food = ['Momo','Paneer','Matar paneer','Fruits','Cold drinks','Pizza','Chocolates']"
   ]
  },
  {
   "cell_type": "code",
   "execution_count": 6,
   "id": "f34077a7",
   "metadata": {},
   "outputs": [
    {
     "data": {
      "text/plain": [
       "'Paneer'"
      ]
     },
     "execution_count": 6,
     "metadata": {},
     "output_type": "execute_result"
    }
   ],
   "source": [
    "party_food[1]"
   ]
  },
  {
   "cell_type": "code",
   "execution_count": 7,
   "id": "fb694c3e",
   "metadata": {},
   "outputs": [
    {
     "data": {
      "text/plain": [
       "'Chocolates'"
      ]
     },
     "execution_count": 7,
     "metadata": {},
     "output_type": "execute_result"
    }
   ],
   "source": [
    "party_food[-1] #Negative indexing"
   ]
  },
  {
   "cell_type": "code",
   "execution_count": 8,
   "id": "155c6117",
   "metadata": {},
   "outputs": [
    {
     "data": {
      "text/plain": [
       "['Paneer', 'Matar paneer', 'Fruits', 'Cold drinks']"
      ]
     },
     "execution_count": 8,
     "metadata": {},
     "output_type": "execute_result"
    }
   ],
   "source": [
    "party_food[1:5]"
   ]
  },
  {
   "cell_type": "code",
   "execution_count": 9,
   "id": "63c8e453",
   "metadata": {},
   "outputs": [
    {
     "data": {
      "text/plain": [
       "['Fruits', 'Cold drinks', 'Pizza', 'Chocolates']"
      ]
     },
     "execution_count": 9,
     "metadata": {},
     "output_type": "execute_result"
    }
   ],
   "source": [
    "party_food[-4:]"
   ]
  },
  {
   "cell_type": "markdown",
   "id": "8bbca877",
   "metadata": {},
   "source": [
    "# loops in list"
   ]
  },
  {
   "cell_type": "code",
   "execution_count": 10,
   "id": "43c06aa5",
   "metadata": {},
   "outputs": [],
   "source": [
    "party_food = ['Momo','Paneer','Matar paneer','Fruits','Cold drinks','Pizza','Chocolates']"
   ]
  },
  {
   "cell_type": "code",
   "execution_count": 11,
   "id": "582ec3d1",
   "metadata": {},
   "outputs": [
    {
     "name": "stdout",
     "output_type": "stream",
     "text": [
      "0\n",
      "1\n",
      "2\n",
      "3\n",
      "4\n",
      "5\n",
      "6\n"
     ]
    }
   ],
   "source": [
    "for index in range(len(party_food)):\n",
    "    print(index)\n"
   ]
  },
  {
   "cell_type": "code",
   "execution_count": 12,
   "id": "459f895f",
   "metadata": {},
   "outputs": [
    {
     "data": {
      "text/plain": [
       "7"
      ]
     },
     "execution_count": 12,
     "metadata": {},
     "output_type": "execute_result"
    }
   ],
   "source": [
    "len(party_food)"
   ]
  },
  {
   "cell_type": "code",
   "execution_count": 13,
   "id": "c1dcd4e0",
   "metadata": {},
   "outputs": [
    {
     "name": "stdout",
     "output_type": "stream",
     "text": [
      "0 Momo\n",
      "1 Paneer\n",
      "2 Matar paneer\n",
      "3 Fruits\n",
      "4 Cold drinks\n",
      "5 Pizza\n",
      "6 Chocolates\n"
     ]
    }
   ],
   "source": [
    "for index in range(len(party_food)):\n",
    "    print(index,party_food[index])"
   ]
  },
  {
   "cell_type": "code",
   "execution_count": 14,
   "id": "7fd8de64",
   "metadata": {},
   "outputs": [
    {
     "name": "stdout",
     "output_type": "stream",
     "text": [
      "Momo\n",
      "Paneer\n",
      "Matar paneer\n",
      "Fruits\n",
      "Cold drinks\n",
      "Pizza\n",
      "Chocolates\n"
     ]
    }
   ],
   "source": [
    "for items in party_food:\n",
    "    print(items)"
   ]
  },
  {
   "cell_type": "code",
   "execution_count": 15,
   "id": "c4d6430d",
   "metadata": {},
   "outputs": [
    {
     "name": "stdout",
     "output_type": "stream",
     "text": [
      "Momo\n",
      "Paneer\n",
      "Matar paneer\n",
      "Fruits\n",
      "Cold drinks\n",
      "Pizza\n",
      "Chocolates\n"
     ]
    }
   ],
   "source": [
    "for a in party_food:\n",
    "    print(a)"
   ]
  },
  {
   "cell_type": "code",
   "execution_count": 16,
   "id": "102eb95d",
   "metadata": {},
   "outputs": [
    {
     "name": "stdout",
     "output_type": "stream",
     "text": [
      "0 Momo\n",
      "1 Paneer\n",
      "2 Matar paneer\n",
      "3 Fruits\n",
      "4 Cold drinks\n",
      "5 Pizza\n",
      "6 Chocolates\n"
     ]
    }
   ],
   "source": [
    "for index,item in enumerate(party_food):\n",
    "    print(index,item)"
   ]
  },
  {
   "cell_type": "markdown",
   "id": "5acbb72f",
   "metadata": {},
   "source": [
    "# Mean\n",
    "\n",
    "$\\bar X = \\frac"
   ]
  },
  {
   "cell_type": "code",
   "execution_count": 24,
   "id": "987191f9",
   "metadata": {},
   "outputs": [
    {
     "name": "stdout",
     "output_type": "stream",
     "text": [
      "30.6\n"
     ]
    }
   ],
   "source": [
    "nums = [22,55,66,8,2]\n",
    "total = 0\n",
    "mean = 0\n",
    "\n",
    "for items in nums:\n",
    "    total = total + items\n",
    "    mean = total/len(nums)\n",
    "print(mean)\n",
    "    \n",
    "    "
   ]
  },
  {
   "cell_type": "code",
   "execution_count": 23,
   "id": "fade3bc3",
   "metadata": {},
   "outputs": [
    {
     "data": {
      "text/plain": [
       "5"
      ]
     },
     "execution_count": 23,
     "metadata": {},
     "output_type": "execute_result"
    }
   ],
   "source": [
    "len(nums)"
   ]
  },
  {
   "cell_type": "code",
   "execution_count": 25,
   "id": "f8f159e6",
   "metadata": {},
   "outputs": [
    {
     "data": {
      "text/plain": [
       "30.6"
      ]
     },
     "execution_count": 25,
     "metadata": {},
     "output_type": "execute_result"
    }
   ],
   "source": [
    "import numpy as np\n",
    "np.mean(nums)"
   ]
  },
  {
   "cell_type": "code",
   "execution_count": null,
   "id": "a64fb3f1",
   "metadata": {},
   "outputs": [],
   "source": []
  }
 ],
 "metadata": {
  "kernelspec": {
   "display_name": "Python 3",
   "language": "python",
   "name": "python3"
  },
  "language_info": {
   "codemirror_mode": {
    "name": "ipython",
    "version": 3
   },
   "file_extension": ".py",
   "mimetype": "text/x-python",
   "name": "python",
   "nbconvert_exporter": "python",
   "pygments_lexer": "ipython3",
   "version": "3.8.8"
  }
 },
 "nbformat": 4,
 "nbformat_minor": 5
}
