{
 "cells": [
  {
   "cell_type": "markdown",
   "id": "18d0aa3d",
   "metadata": {},
   "source": [
    "# pass\n",
    "* Pass is a placeholder to write future code\n",
    "* break --> break loop\n",
    "* continue --> skip"
   ]
  },
  {
   "cell_type": "code",
   "execution_count": 1,
   "id": "6914eb4d",
   "metadata": {},
   "outputs": [],
   "source": [
    "if 1==1:\n",
    "    pass\n"
   ]
  },
  {
   "cell_type": "code",
   "execution_count": 2,
   "id": "4b4f5fc2",
   "metadata": {},
   "outputs": [],
   "source": [
    "for i in range(5):\n",
    "    pass"
   ]
  },
  {
   "cell_type": "code",
   "execution_count": 4,
   "id": "e6a329d3",
   "metadata": {},
   "outputs": [],
   "source": [
    "def test():\n",
    "    pass"
   ]
  },
  {
   "cell_type": "code",
   "execution_count": 5,
   "id": "66e21d6f",
   "metadata": {},
   "outputs": [],
   "source": [
    "class People():\n",
    "    pass"
   ]
  }
 ],
 "metadata": {
  "kernelspec": {
   "display_name": "Python 3",
   "language": "python",
   "name": "python3"
  },
  "language_info": {
   "codemirror_mode": {
    "name": "ipython",
    "version": 3
   },
   "file_extension": ".py",
   "mimetype": "text/x-python",
   "name": "python",
   "nbconvert_exporter": "python",
   "pygments_lexer": "ipython3",
   "version": "3.8.8"
  }
 },
 "nbformat": 4,
 "nbformat_minor": 5
}
