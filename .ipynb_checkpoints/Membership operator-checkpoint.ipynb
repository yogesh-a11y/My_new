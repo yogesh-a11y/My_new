{
 "cells": [
  {
   "cell_type": "code",
   "execution_count": 2,
   "id": "80bd2cdc",
   "metadata": {},
   "outputs": [],
   "source": [
    "student = ['Dipendra','Aasha','Sarita','Amrit','Shankar','Nitisa']"
   ]
  },
  {
   "cell_type": "code",
   "execution_count": 2,
   "id": "dfd29a65",
   "metadata": {},
   "outputs": [
    {
     "data": {
      "text/plain": [
       "False"
      ]
     },
     "execution_count": 2,
     "metadata": {},
     "output_type": "execute_result"
    }
   ],
   "source": [
    "'Kshiitz'in student"
   ]
  },
  {
   "cell_type": "code",
   "execution_count": 3,
   "id": "9d485946",
   "metadata": {},
   "outputs": [
    {
     "data": {
      "text/plain": [
       "False"
      ]
     },
     "execution_count": 3,
     "metadata": {},
     "output_type": "execute_result"
    }
   ],
   "source": [
    "'Amrit ' in student"
   ]
  },
  {
   "cell_type": "code",
   "execution_count": 4,
   "id": "f3734706",
   "metadata": {},
   "outputs": [
    {
     "data": {
      "text/plain": [
       "True"
      ]
     },
     "execution_count": 4,
     "metadata": {},
     "output_type": "execute_result"
    }
   ],
   "source": [
    "'Ram' not in student"
   ]
  },
  {
   "cell_type": "code",
   "execution_count": 5,
   "id": "cae127b6",
   "metadata": {},
   "outputs": [
    {
     "data": {
      "text/plain": [
       "('Ram', True)"
      ]
     },
     "execution_count": 5,
     "metadata": {},
     "output_type": "execute_result"
    }
   ],
   "source": [
    "'Ram', 'Aasha' in student"
   ]
  },
  {
   "cell_type": "code",
   "execution_count": null,
   "id": "9910d38f",
   "metadata": {},
   "outputs": [],
   "source": []
  }
 ],
 "metadata": {
  "kernelspec": {
   "display_name": "Python 3",
   "language": "python",
   "name": "python3"
  },
  "language_info": {
   "codemirror_mode": {
    "name": "ipython",
    "version": 3
   },
   "file_extension": ".py",
   "mimetype": "text/x-python",
   "name": "python",
   "nbconvert_exporter": "python",
   "pygments_lexer": "ipython3",
   "version": "3.8.8"
  }
 },
 "nbformat": 4,
 "nbformat_minor": 5
}
