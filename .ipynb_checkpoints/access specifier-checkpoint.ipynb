{
 "cells": [
  {
   "cell_type": "markdown",
   "id": "cd899aec",
   "metadata": {},
   "source": [
    "# Are access specifiers used in python? -- No but has concept of limiting behaviour of variables:private attribute are not inherited   [encapsulation in python]\n",
    "\n",
    "* private\n",
    "* public\n",
    "* protected"
   ]
  },
  {
   "cell_type": "code",
   "execution_count": 1,
   "id": "478d17ca",
   "metadata": {},
   "outputs": [],
   "source": [
    "class Tutor:\n",
    "    #public\n",
    "    name = 'Ram'\n",
    "    \n",
    "    #protected\n",
    "    _teaches = 'DS'\n",
    "    \n",
    "    #private\n",
    "    __age = 22"
   ]
  },
  {
   "cell_type": "code",
   "execution_count": 2,
   "id": "5c06259a",
   "metadata": {},
   "outputs": [],
   "source": [
    "tutor = Tutor()"
   ]
  },
  {
   "cell_type": "code",
   "execution_count": 3,
   "id": "699528de",
   "metadata": {},
   "outputs": [
    {
     "data": {
      "text/plain": [
       "'Ram'"
      ]
     },
     "execution_count": 3,
     "metadata": {},
     "output_type": "execute_result"
    }
   ],
   "source": [
    "tutor.name"
   ]
  },
  {
   "cell_type": "code",
   "execution_count": 4,
   "id": "a64a271c",
   "metadata": {},
   "outputs": [
    {
     "data": {
      "text/plain": [
       "'DS'"
      ]
     },
     "execution_count": 4,
     "metadata": {},
     "output_type": "execute_result"
    }
   ],
   "source": [
    "tutor._teaches"
   ]
  },
  {
   "cell_type": "code",
   "execution_count": 5,
   "id": "cf9fae64",
   "metadata": {},
   "outputs": [
    {
     "ename": "AttributeError",
     "evalue": "'Tutor' object has no attribute '__age'",
     "output_type": "error",
     "traceback": [
      "\u001b[1;31m---------------------------------------------------------------------------\u001b[0m",
      "\u001b[1;31mAttributeError\u001b[0m                            Traceback (most recent call last)",
      "\u001b[1;32m<ipython-input-5-c349e61bc340>\u001b[0m in \u001b[0;36m<module>\u001b[1;34m\u001b[0m\n\u001b[1;32m----> 1\u001b[1;33m \u001b[0mtutor\u001b[0m\u001b[1;33m.\u001b[0m\u001b[0m__age\u001b[0m\u001b[1;33m\u001b[0m\u001b[1;33m\u001b[0m\u001b[0m\n\u001b[0m",
      "\u001b[1;31mAttributeError\u001b[0m: 'Tutor' object has no attribute '__age'"
     ]
    }
   ],
   "source": [
    "tutor.__age"
   ]
  },
  {
   "cell_type": "code",
   "execution_count": null,
   "id": "049e6e74",
   "metadata": {},
   "outputs": [],
   "source": []
  }
 ],
 "metadata": {
  "kernelspec": {
   "display_name": "Python 3",
   "language": "python",
   "name": "python3"
  },
  "language_info": {
   "codemirror_mode": {
    "name": "ipython",
    "version": 3
   },
   "file_extension": ".py",
   "mimetype": "text/x-python",
   "name": "python",
   "nbconvert_exporter": "python",
   "pygments_lexer": "ipython3",
   "version": "3.8.8"
  }
 },
 "nbformat": 4,
 "nbformat_minor": 5
}
