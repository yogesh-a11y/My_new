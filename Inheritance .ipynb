{
 "cells": [
  {
   "cell_type": "markdown",
   "id": "d98388e5",
   "metadata": {},
   "source": [
    "# Single inheritance"
   ]
  },
  {
   "cell_type": "code",
   "execution_count": 1,
   "id": "42b635fe",
   "metadata": {},
   "outputs": [],
   "source": [
    "class Computer:\n",
    "    def __init__(self,model_name, chip):\n",
    "        self.model_name = model_name\n",
    "        self.chip = chip\n",
    "\n",
    "class Mobile:\n",
    "    def __init__(self):\n",
    "        self.has_flash = True"
   ]
  },
  {
   "cell_type": "code",
   "execution_count": 2,
   "id": "c9c547da",
   "metadata": {},
   "outputs": [],
   "source": [
    "mobile = Mobile()"
   ]
  },
  {
   "cell_type": "code",
   "execution_count": 3,
   "id": "3b099399",
   "metadata": {},
   "outputs": [
    {
     "data": {
      "text/plain": [
       "True"
      ]
     },
     "execution_count": 3,
     "metadata": {},
     "output_type": "execute_result"
    }
   ],
   "source": [
    "mobile.has_flash"
   ]
  },
  {
   "cell_type": "markdown",
   "id": "1fc8a9eb",
   "metadata": {},
   "source": [
    "# Single inheritance"
   ]
  },
  {
   "cell_type": "code",
   "execution_count": 4,
   "id": "3588d21d",
   "metadata": {},
   "outputs": [],
   "source": [
    "class Computer:\n",
    "    def __init__(self,model_name, chip):\n",
    "        self.model_name = model_name\n",
    "        self.chip = chip\n",
    "\n",
    "class Mobile(Computer):\n",
    "    def __init__(self,model_name, chip):\n",
    "        self.has_flash = True\n",
    "        super().__init__(model_name, chip)"
   ]
  },
  {
   "cell_type": "code",
   "execution_count": 5,
   "id": "188d2775",
   "metadata": {},
   "outputs": [],
   "source": [
    "mobile = Mobile(model_name = 'iphone', chip = 'A15 Bionic')"
   ]
  },
  {
   "cell_type": "code",
   "execution_count": 6,
   "id": "4bff0b9c",
   "metadata": {},
   "outputs": [
    {
     "data": {
      "text/plain": [
       "'A15 Bionic'"
      ]
     },
     "execution_count": 6,
     "metadata": {},
     "output_type": "execute_result"
    }
   ],
   "source": [
    "mobile.chip #parent property"
   ]
  },
  {
   "cell_type": "code",
   "execution_count": 7,
   "id": "6bed82df",
   "metadata": {},
   "outputs": [
    {
     "data": {
      "text/plain": [
       "'iphone'"
      ]
     },
     "execution_count": 7,
     "metadata": {},
     "output_type": "execute_result"
    }
   ],
   "source": [
    "mobile.model_name #parent property"
   ]
  },
  {
   "cell_type": "code",
   "execution_count": 8,
   "id": "9dd66b80",
   "metadata": {},
   "outputs": [
    {
     "data": {
      "text/plain": [
       "True"
      ]
     },
     "execution_count": 8,
     "metadata": {},
     "output_type": "execute_result"
    }
   ],
   "source": [
    "mobile.has_flash"
   ]
  },
  {
   "cell_type": "code",
   "execution_count": 9,
   "id": "cffccc6e",
   "metadata": {},
   "outputs": [],
   "source": [
    "class Computer:\n",
    "    def __init__(self,model_name, chip):\n",
    "        self.model_name = model_name\n",
    "        self.chip = chip\n",
    "        \n",
    "    def show_model(self):\n",
    "        return self.model_name\n",
    "\n",
    "class Mobile(Computer):\n",
    "    def __init__(self,model_name, chip):\n",
    "        self.has_flash = True\n",
    "        super().__init__(model_name, chip)"
   ]
  },
  {
   "cell_type": "code",
   "execution_count": 10,
   "id": "72e0b644",
   "metadata": {},
   "outputs": [],
   "source": [
    "mobile = Mobile('iphonee','a12')"
   ]
  },
  {
   "cell_type": "code",
   "execution_count": 11,
   "id": "31998a45",
   "metadata": {},
   "outputs": [
    {
     "data": {
      "text/plain": [
       "'iphonee'"
      ]
     },
     "execution_count": 11,
     "metadata": {},
     "output_type": "execute_result"
    }
   ],
   "source": [
    "mobile.show_model() # we can access from function name as well"
   ]
  },
  {
   "cell_type": "code",
   "execution_count": 12,
   "id": "c146d7fd",
   "metadata": {},
   "outputs": [
    {
     "data": {
      "text/plain": [
       "'iphonee'"
      ]
     },
     "execution_count": 12,
     "metadata": {},
     "output_type": "execute_result"
    }
   ],
   "source": [
    "mobile.model_name # we can access from function properties as well"
   ]
  },
  {
   "cell_type": "markdown",
   "id": "291b9ebe",
   "metadata": {},
   "source": [
    "# Multiple inheritance"
   ]
  },
  {
   "cell_type": "code",
   "execution_count": 24,
   "id": "c49abfe1",
   "metadata": {},
   "outputs": [],
   "source": [
    "class Father:\n",
    "    def __init__(self,f_name):\n",
    "        self.f_name = f_name\n",
    "        self.warrior = True\n",
    "        self.height = 5.9  # we can give value manually without using function property\n",
    "\n",
    "class Mother:\n",
    "    def __init__(self,m_name):\n",
    "        self.m_name = m_name\n",
    "\n",
    "class Child(Father,Mother):\n",
    "    def __init__(self,name, f_name,m_name):\n",
    "        self.name = name\n",
    "        Father.__init__(self,f_name)\n",
    "        Mother.__init__(self,m_name)\n",
    "        \n",
    "        "
   ]
  },
  {
   "cell_type": "code",
   "execution_count": 25,
   "id": "3823b4d7",
   "metadata": {},
   "outputs": [],
   "source": [
    "kta = Child(name = 'luv', f_name = 'Ram', m_name = 'Sita')"
   ]
  },
  {
   "cell_type": "code",
   "execution_count": 15,
   "id": "a842addd",
   "metadata": {},
   "outputs": [
    {
     "data": {
      "text/plain": [
       "'Ram'"
      ]
     },
     "execution_count": 15,
     "metadata": {},
     "output_type": "execute_result"
    }
   ],
   "source": [
    "kta.f_name"
   ]
  },
  {
   "cell_type": "code",
   "execution_count": 16,
   "id": "d6eae44d",
   "metadata": {},
   "outputs": [
    {
     "data": {
      "text/plain": [
       "'Sita'"
      ]
     },
     "execution_count": 16,
     "metadata": {},
     "output_type": "execute_result"
    }
   ],
   "source": [
    "kta.m_name"
   ]
  },
  {
   "cell_type": "code",
   "execution_count": 17,
   "id": "f4be06e7",
   "metadata": {},
   "outputs": [
    {
     "data": {
      "text/plain": [
       "'luv'"
      ]
     },
     "execution_count": 17,
     "metadata": {},
     "output_type": "execute_result"
    }
   ],
   "source": [
    "kta.name"
   ]
  },
  {
   "cell_type": "code",
   "execution_count": 26,
   "id": "5e752c33",
   "metadata": {},
   "outputs": [
    {
     "data": {
      "text/plain": [
       "True"
      ]
     },
     "execution_count": 26,
     "metadata": {},
     "output_type": "execute_result"
    }
   ],
   "source": [
    "kta.warrior"
   ]
  },
  {
   "cell_type": "code",
   "execution_count": 27,
   "id": "7e12c5c2",
   "metadata": {},
   "outputs": [
    {
     "data": {
      "text/plain": [
       "5.9"
      ]
     },
     "execution_count": 27,
     "metadata": {},
     "output_type": "execute_result"
    }
   ],
   "source": [
    "kta.height"
   ]
  },
  {
   "cell_type": "code",
   "execution_count": 28,
   "id": "78782040",
   "metadata": {},
   "outputs": [],
   "source": [
    "class Vehicle:\n",
    "    def __init__(self, tyre,model):\n",
    "        self.tyre = tyre\n",
    "        self.model = model\n",
    "        \n",
    "    def show_tyre(self):\n",
    "        return self.tyre\n",
    "    \n",
    "class Car(Vehicle):\n",
    "    def __init__(self, color, weight, speed, name, tyre, model):\n",
    "        self.color = color\n",
    "        self.weight = weight\n",
    "        self.speed = speed\n",
    "        self.name = name\n",
    "        super().__init__( tyre, model)\n",
    "        \n",
    "    def show_speed(self):\n",
    "        return self.speed\n",
    "    \n",
    "    def show_height(self):\n",
    "        return self.height"
   ]
  },
  {
   "cell_type": "code",
   "execution_count": 29,
   "id": "251de153",
   "metadata": {},
   "outputs": [],
   "source": [
    "obj = Car('red',7000, '150km/hr', 'Buggati', 4, 'Racing')"
   ]
  },
  {
   "cell_type": "code",
   "execution_count": 30,
   "id": "ea4856f6",
   "metadata": {},
   "outputs": [
    {
     "data": {
      "text/plain": [
       "'Racing'"
      ]
     },
     "execution_count": 30,
     "metadata": {},
     "output_type": "execute_result"
    }
   ],
   "source": [
    "obj.model"
   ]
  },
  {
   "cell_type": "code",
   "execution_count": 31,
   "id": "277689a2",
   "metadata": {},
   "outputs": [
    {
     "data": {
      "text/plain": [
       "4"
      ]
     },
     "execution_count": 31,
     "metadata": {},
     "output_type": "execute_result"
    }
   ],
   "source": [
    "obj.tyre # calling with function property or attribute"
   ]
  },
  {
   "cell_type": "code",
   "execution_count": 32,
   "id": "c8fdfb70",
   "metadata": {},
   "outputs": [
    {
     "data": {
      "text/plain": [
       "4"
      ]
     },
     "execution_count": 32,
     "metadata": {},
     "output_type": "execute_result"
    }
   ],
   "source": [
    "obj.show_tyre() # calling with function "
   ]
  },
  {
   "cell_type": "code",
   "execution_count": 33,
   "id": "90bffd3a",
   "metadata": {},
   "outputs": [
    {
     "data": {
      "text/plain": [
       "'150km/hr'"
      ]
     },
     "execution_count": 33,
     "metadata": {},
     "output_type": "execute_result"
    }
   ],
   "source": [
    "obj.speed #we can call using either property or function"
   ]
  },
  {
   "cell_type": "code",
   "execution_count": 34,
   "id": "2a80a28d",
   "metadata": {},
   "outputs": [
    {
     "data": {
      "text/plain": [
       "'150km/hr'"
      ]
     },
     "execution_count": 34,
     "metadata": {},
     "output_type": "execute_result"
    }
   ],
   "source": [
    "obj.show_speed() #we can call using either property or function if function is built"
   ]
  },
  {
   "cell_type": "markdown",
   "id": "900f0512",
   "metadata": {},
   "source": [
    "# Multilevel inheritance"
   ]
  },
  {
   "cell_type": "code",
   "execution_count": 19,
   "id": "bf31b19f",
   "metadata": {},
   "outputs": [],
   "source": [
    "class GrandFather:\n",
    "    def __init__(self,g_name):\n",
    "        self.g_name = g_name\n",
    "\n",
    "class Father(GrandFather):\n",
    "    def __init__(self,f_name,g_name):\n",
    "        self.f_name = f_name\n",
    "        GrandFather.__init__(self,g_name)\n",
    "        \n",
    "class Kid(Father):\n",
    "    def __init__(self,k_name,f_name,g_name):\n",
    "        self.k_name = k_name\n",
    "        Father.__init__(self,f_name,g_name)"
   ]
  },
  {
   "cell_type": "code",
   "execution_count": 20,
   "id": "9aa58ce4",
   "metadata": {},
   "outputs": [],
   "source": [
    "Kid= Kid(k_name='Lov-kush',f_name = 'Ram', g_name = 'Dasarath')"
   ]
  },
  {
   "cell_type": "code",
   "execution_count": 21,
   "id": "1e37d207",
   "metadata": {},
   "outputs": [
    {
     "data": {
      "text/plain": [
       "'Ram'"
      ]
     },
     "execution_count": 21,
     "metadata": {},
     "output_type": "execute_result"
    }
   ],
   "source": [
    "Kid.f_name"
   ]
  },
  {
   "cell_type": "code",
   "execution_count": 22,
   "id": "f345a314",
   "metadata": {},
   "outputs": [
    {
     "data": {
      "text/plain": [
       "'Dasarath'"
      ]
     },
     "execution_count": 22,
     "metadata": {},
     "output_type": "execute_result"
    }
   ],
   "source": [
    "Kid.g_name"
   ]
  },
  {
   "cell_type": "code",
   "execution_count": 23,
   "id": "bb3c3e26",
   "metadata": {},
   "outputs": [
    {
     "data": {
      "text/plain": [
       "'Lov-kush'"
      ]
     },
     "execution_count": 23,
     "metadata": {},
     "output_type": "execute_result"
    }
   ],
   "source": [
    "Kid.k_name"
   ]
  },
  {
   "cell_type": "code",
   "execution_count": null,
   "id": "e4366994",
   "metadata": {},
   "outputs": [],
   "source": []
  }
 ],
 "metadata": {
  "kernelspec": {
   "display_name": "Python 3",
   "language": "python",
   "name": "python3"
  },
  "language_info": {
   "codemirror_mode": {
    "name": "ipython",
    "version": 3
   },
   "file_extension": ".py",
   "mimetype": "text/x-python",
   "name": "python",
   "nbconvert_exporter": "python",
   "pygments_lexer": "ipython3",
   "version": "3.8.8"
  }
 },
 "nbformat": 4,
 "nbformat_minor": 5
}
